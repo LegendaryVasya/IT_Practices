{
 "cells": [
  {
   "cell_type": "markdown",
   "source": [
    "# Рабочая тетрадь №7. Нейронные сети.\n",
    "###  Алхимов Василий Юрьевич"
   ],
   "metadata": {
    "collapsed": false
   }
  },
  {
   "cell_type": "markdown",
   "source": [
    "### Обучение персептрона\n",
    "\n",
    "Персептрон представляет собой элементарную часть нейронной сети. Одиночный персептрон является линейным бинарным классификатором. В этой лекции мы рассмотрим процедуру обучения персептрона для классификации данных. Поскольку персептрон представляет собой бинарный классификатор, то мы будем рассматривать лишь два класса.\n",
    "\n",
    "Пусть мы рассматриваем некоторое множество (конечное или бесконечное) n-мерных векторов, которые будем обозначать x=(x_1,x_2,...,x_n)\n",
    "\n",
    "Будем считать, что это множество разбивается на два класса, которые мы будем обозначать +1 и -1. Поэтому возникает задача построения функции, которая задана на нашем множестве векторов, и принимает значения в множестве {+1,-1}. В качестве такой функции может выступать персептрон. С алгебраической точки зрения персептрон состоит из вектора весов w=(w_0,w_1,w_2,...,w_n).\n",
    "\n",
    "При этом персептрон работает по формуле\n",
    "\n",
    "    y=sign(w_0  + x_1 w_1  + x_2 w_2  + ...+ x_n w_n),\n",
    "где функция sign(t) равна +1, если t ≥ 0, и равна -1, если t < 0.\n",
    "\n",
    "Приведем алгоритм обучения персептрона. Пусть у нас есть набор обучающих данных {(x,d)}, где x - это различные вектора, а d из множества {+1,-1} указывает к какому классу относится наш вектор.\n",
    "\n",
    "\tПоложим вектор весов w равным нулю.\n",
    "\n",
    "\tПовторять N раз следующие шаги:\n",
    "\n",
    "\tДля каждого тестового набора (x,d):\n",
    "\n",
    "\tВычислить y = sing[(x,w)].\n",
    "\n",
    "\tЕсли yd < 0, то скорректировать веса w_0  = w_0  + ad,w_i  = w_i  + adx_i,i = 1,2,...,n.\n",
    "\n",
    "Описанный алгоритм довольно легко программировать."
   ],
   "metadata": {
    "collapsed": false
   }
  },
  {
   "cell_type": "markdown",
   "metadata": {
    "collapsed": true,
    "pycharm": {
     "name": "#%% md\n"
    }
   },
   "source": [
    "### 1.1.1 Пример\n",
    "\n",
    "Задача:\n",
    "\n",
    "Рассмотрим программу обучения персептрона на языке Python. Сначала рассмотрим основной класс персептрона, который умеет учиться по тестовым данным:\n"
   ]
  },
  {
   "cell_type": "code",
   "execution_count": 451,
   "outputs": [],
   "source": [
    "class Perceptron:\n",
    "    def __init__(self,N):\n",
    "        self.w = list()\n",
    "        for i in range(N):\n",
    "            self.w.append(0)\n",
    "    def calc(self,x):\n",
    "        res = 0\n",
    "        for i in range(len(self.w)):\n",
    "            res = res + self.w[i]*x[i]\n",
    "        return res\n",
    "    def sign(self,x):\n",
    "        if self.calc(x)>0:\n",
    "            return 1\n",
    "        else:\n",
    "            return -1\n",
    "    def learn(self,la,x,y):\n",
    "        if y*self.calc(x)<=0:\n",
    "            for i in range(len(self.w)):\n",
    "                self.w[i] = self.w[i]+la*y*x[i]\n",
    "    def learning(self,la,T):\n",
    "        for n in range(100):\n",
    "            for t in T:\n",
    "                self.learn(la,t[0],t[1])"
   ],
   "metadata": {
    "collapsed": false,
    "pycharm": {
     "name": "#%%\n"
    }
   }
  },
  {
   "cell_type": "code",
   "execution_count": 452,
   "outputs": [
    {
     "name": "stdout",
     "output_type": "stream",
     "text": [
      "[0.1, -0.1]\n",
      "-1\n",
      "1\n",
      "1\n",
      "-1\n"
     ]
    }
   ],
   "source": [
    "perceptron = Perceptron(2)\n",
    "la = 0.1\n",
    "T=list()\n",
    "T.append([[2,1], 1])\n",
    "T.append([[3,2], 1])\n",
    "T.append([[4,1], 1])\n",
    "T.append([[1,2], -1])\n",
    "T.append([[2,3], -1])\n",
    "T.append([[5,7], -1])\n",
    "perceptron.learning(la,T)\n",
    "print(perceptron.w)\n",
    "print (perceptron.sign([1.5, 2]))\n",
    "print (perceptron.sign([3, 1.5]))\n",
    "print (perceptron.sign([5, 1]))\n",
    "print (perceptron.sign([5, 10]))"
   ],
   "metadata": {
    "collapsed": false,
    "pycharm": {
     "name": "#%%\n"
    }
   }
  },
  {
   "cell_type": "markdown",
   "source": [
    "Видим, что что наш персептрон отлично научился распознавать образы, относя к классу 1 те вектора, у которых первая компонента больше второй, и к классу -1 в противном случае. Хотя устройство персептронов довольно простое эти конструкции могут решать и практические задачи. Кроме того, из таких персептронов состоят нейронные сети."
   ],
   "metadata": {
    "collapsed": false
   }
  },
  {
   "cell_type": "markdown",
   "source": [
    "### Реализация нейронной сети на Python\n",
    "\n",
    "Нейронная сеть — это функциональная единица машинного или глубокого обучения. Она имитирует поведение человеческого мозга, поскольку основана на концепции биологических нейронных сетей.\n",
    "\n",
    "Наиболее распространенный тип нейронной сети, называемый многослойным персептроном (MLP), представляет собой функцию, которая отображает входные данные в выходные данные. MLP имеет один входной слой и один выходной слой. Между ними может быть один или несколько скрытых слоев. Входной слой имеет тот же набор нейронов, что и признаки. Скрытые слои также могут иметь более одного нейрона. Каждый нейрон представляет собой линейную функцию, к которой применяется функция активации для решения сложных задач. Выход каждого слоя подается в качестве входных данных для всех нейронов следующих слоев.\n",
    "\n",
    "Нейронные сети способны решать множество задач. В основном они состоят из таких компонентов:\n",
    "\n",
    "\tвходной слой (получение и передача данных);\n",
    "\n",
    "\tскрытый слой (вычисление);\n",
    "\n",
    "\tвыходной слой. Чтобы реализовать нейросеть, необходимо понимать, как ведут себя нейроны. Нейрон одновременно принимает несколько входов, обрабатывает эти данные и выдает один выход. Нейронная сеть представляет собой блоки ввода и вывода, где каждое соединение имеет соответствующие веса (это сила связи нейронов; чем вес больше, тем один нейрон сильнее влияет на другой). Данные всех входов умножаются на веса:\n",
    "\n",
    "\tx → x*w_1;\n",
    "\ty → y*w_2.\n",
    "\n",
    "    Входы после взвешивания суммируются с прибавлением значения порога «c»:\n",
    "    xw_1  + yw_2  + c\n",
    "\n",
    "    Полученное значение пропускается через функцию активации (сигмоиду), которая преобразует входы в один выход:\n",
    "\n",
    "    z =f(xw_1  + yw_2  + c).\n",
    "\n",
    "\n",
    "Так выглядит сигмоида:\n",
    "<div align=\"сenter\">\n",
    "<img src=\"https://sun9-west.userapi.com/sun9-2/s/v1/if2/T87FCii9Oasrc1njtvO26iMU-Qk_HjyUGtWxLmK0agcPELUJfdK8cTW1d4N9nga2fJM_-T91oqkEen8dk_bMM2y5.jpg?size=536x373&quality=96&type=album\" align=\"сenter\" style=\"width: 50%\"\n",
    "</div>\n",
    "\n",
    "        Интервал результатов сигмоиды — от 0 до 1. Отрицательные числа стремятся к нулю, а положительные — к единице.\n",
    "    Например. Пусть нейрон имеет следующие значения: w = [0,1] c = 4.\n",
    "    Входной слой: x = 2,y = 3.\n",
    "\n",
    "    ((xw_1) + (yw_2)) + c = 20 + 31 + 4 = 7.\n",
    "    z = f(7) = 0.99."
   ],
   "metadata": {
    "collapsed": false,
    "pycharm": {
     "name": "#%% md\n"
    }
   }
  },
  {
   "cell_type": "markdown",
   "source": [
    "### 1.1.2 Пример\n",
    "Решение:\n",
    "\n",
    "Для написания кода нейрона будем использовать библиотеку Pytnon — NumPy:"
   ],
   "metadata": {
    "collapsed": false
   }
  },
  {
   "cell_type": "code",
   "execution_count": 453,
   "outputs": [
    {
     "name": "stdout",
     "output_type": "stream",
     "text": [
      "0.9990889488055994\n"
     ]
    }
   ],
   "source": [
    "import numpy as np\n",
    "def sigmoid(x):\n",
    "    return 1/(1+np.exp(-x))\n",
    "class Neuron:\n",
    "    def __init__(self,weights, bias):\n",
    "        self.weights = weights\n",
    "        self.bias = bias\n",
    "    def feedforward(self,inputs):\n",
    "        total = np.dot(self.weights, inputs) + self.bias\n",
    "        return sigmoid(total)\n",
    "weights = np.array([0, 1])\n",
    "bias = 4\n",
    "n = Neuron(weights, bias)\n",
    "x = np.array([2,3])\n",
    "print(n.feedforward(x))"
   ],
   "metadata": {
    "collapsed": false,
    "pycharm": {
     "name": "#%%\n"
    }
   }
  },
  {
   "cell_type": "markdown",
   "source": [
    "Нейросеть состоит из множества соединенных между собой нейронов.\n",
    "\n",
    "Пример несложной нейронной сети\n",
    "<div align=\"сenter\">\n",
    "<img src=\"https://sun1.userapi.com/sun1-88/s/v1/if2/h72OOBLmqzvR6Rm78vkVmW9xvs7lpeUwqtkSrbeOWGokh0hikXZlnUSSX7c7cO33VPJxmDn2UNjyex4n4Ft_IvxZ.jpg?size=606x269&quality=96&type=album\" align=\"сenter\" style=\"width: 50%\"\n",
    "</div>\n",
    "\n",
    "где:\n",
    "\n",
    "    x_1,x_2 — входной слой;\n",
    "\n",
    "    h_1,h_2 — скрытый слой с двумя нейронами;\n",
    "\n",
    "    o_1 — выходной слой.\n",
    "\n",
    "Например. Представим, что нейроны из графика выше имеют веса [0,1]. Пороговое значение (b) у обоих нейронов равно 0 и они имеют идентичную сигмоиду.\n",
    "При входных данных x=[2,3] получим:\n",
    "\n",
    "h_1  = h_2  = f(wx+b) = f((02) + (1*3) +0) = f(3) = 0.95.\n",
    "\n",
    "o_1  = f(w*[h_1,h_2] +b) = f((0h_1) + (1h_2) +0) = f(0.95) = 0.72.\n",
    "\n",
    "Входные данные по нейронам передаются до тех пор, пока не получатся выходные значения.\n"
   ],
   "metadata": {
    "collapsed": false,
    "pycharm": {
     "name": "#%% md\n"
    }
   }
  },
  {
   "cell_type": "code",
   "execution_count": 454,
   "outputs": [
    {
     "name": "stdout",
     "output_type": "stream",
     "text": [
      "0.7216325609518421\n"
     ]
    }
   ],
   "source": [
    "import numpy as np\n",
    "class OurNeuralNetwork:\n",
    "    '''\n",
    "    Данные нейросети:\n",
    "        -два входа\n",
    "        -два нейрона в скрытых слоях (h1, h2)\n",
    "        -выход(о1)\n",
    "    Нейроны имеют идентичные веса и пороги:\n",
    "        -w = [0,1]\n",
    "        -b = 0\n",
    "    '''\n",
    "    def __init__(self):\n",
    "        weights = np.array([0,1])\n",
    "        bias = 0\n",
    "        #Класс Neuron из предыдущего раздела\n",
    "        self.h1 = Neuron(weights,bias)\n",
    "        self.h2 = Neuron(weights,bias)\n",
    "        self.o1 = Neuron(weights,bias)\n",
    "    def feedforward(self,x):\n",
    "        out_h1 = self.h1.feedforward(x)\n",
    "        out_h2 = self.h2.feedforward(x)\n",
    "        out_o1 = self.o1.feedforward(np.array([out_h1, out_h2]))\n",
    "        return out_o1\n",
    "network = OurNeuralNetwork()\n",
    "x = np.array([2,3])\n",
    "print(network.feedforward(x))"
   ],
   "metadata": {
    "collapsed": false,
    "pycharm": {
     "name": "#%%\n"
    }
   }
  },
  {
   "cell_type": "markdown",
   "source": [
    "###  Обучение нейронной сети\n",
    "\n",
    "Обучение нейросети — это подбор весов, которые соответствуют всем входам для решения поставленных задач.\n",
    "\n",
    "Класс нейронной сети:\n"
   ],
   "metadata": {
    "collapsed": false,
    "pycharm": {
     "name": "#%% md\n"
    }
   }
  },
  {
   "cell_type": "code",
   "execution_count": 455,
   "outputs": [],
   "source": [
    "class NeuralNetwork:\n",
    "    def __init__(self,x,y):\n",
    "        self.input = x\n",
    "        self.weights1 = np.random.rand(self.input.shape[1],4)\n",
    "        self.weights2 = np.random(4,1)\n",
    "        self.y = y\n",
    "        self.output = np.zeros(y.shape)"
   ],
   "metadata": {
    "collapsed": false,
    "pycharm": {
     "name": "#%%\n"
    }
   }
  },
  {
   "cell_type": "markdown",
   "source": [
    "Каждый этап процесса обучения состоит из:\n",
    "\n",
    "\tпрямого распространения (прогнозируемый выход);\n",
    "\tобратного распространения (обновление весов и смещений).\n",
    "\n",
    "Например:\n",
    "\n",
    "Дана двуслойная нейросеть:\n",
    "\n",
    "ŷ = σ(w_2 σ(w_1 x + b_1 )+ b_2 ).\n",
    "\n",
    "В данном случае на выход ŷ влияют только две переменные — w (веса) и b (смещение). Настройку весов и смещений из данных входа или процесс обучения нейросети можно изобразить так:\n",
    "\n",
    "<div align=\"сenter\">\n",
    "<img src=\"https://sun1.userapi.com/sun1-97/s/v1/if2/GcyBod1PH_fsedLVZK3lWNhDIIRnru72Qli-4mQk5UpzXbJ2WMKEwwMiKWxbE8wGMvi4C0BtTstUrbzHXiC2eGb2.jpg?size=955x104&quality=96&type=album\" align=\"сenter\" style=\"width: 80%\"\n",
    "</div>\n",
    "\n",
    "\n",
    "#### Прямое распространение.\n",
    "Как видно, формула прямого распространения представляет собой несложное вычисление:\n",
    "\n",
    "ŷ = σ(w_2 σ(w_1 x + b_1) + b_2)\n",
    "\n",
    "Далее необходимо добавить в код функцию прямого распространения. Предположим, что смещения в этом случае будут равны 0."
   ],
   "metadata": {
    "collapsed": false,
    "pycharm": {
     "name": "#%% md\n"
    }
   }
  },
  {
   "cell_type": "code",
   "execution_count": 456,
   "outputs": [],
   "source": [
    "class NeuralNetwork:\n",
    "    def __init__(self,x,y):\n",
    "        self.input = x\n",
    "        self.weights1 = np.random.rand(self.input.shape[1],4)\n",
    "        self.weights2 = np.random(4,1)\n",
    "        self.y = y\n",
    "        self.output = np.zeros(y.shape)\n",
    "    def feedforward(self):\n",
    "        self.layer1 = sigmoid(np.dot(self.input, self.weights1))\n",
    "        self.output = sigmoid(np.dot(self.layer1, self.weights2))"
   ],
   "metadata": {
    "collapsed": false,
    "pycharm": {
     "name": "#%%\n"
    }
   }
  },
  {
   "cell_type": "markdown",
   "source": [
    "Чтобы вычислить ошибку прогноза, необходимо использовать функцию потери. В примере уместно воспользоваться формулой суммы квадратов ошибок — средним значением между прогнозируемым и фактическим результатами:\n",
    "\n",
    "<div align=\"сenter\">\n",
    "<img src=\"https://sun1.userapi.com/sun1-13/s/v1/if2/C2OUC0nGC8wj9cgLJaz-B7q9HATrU71wnLEJW6snZOCW3307P7-q2dbF0Z4uk7-6VlziD2NQV6Q_32gA7eaorKou.jpg?size=250x88&quality=96&type=album\" align=\"сenter\" style=\"width: 30%\"\n",
    "</div>\n",
    "\n",
    "\n",
    "\n",
    "Благодаря этому правилу можно регулировать веса. Добавляем в код Python функцию обратного распространения:"
   ],
   "metadata": {
    "collapsed": false
   }
  },
  {
   "cell_type": "code",
   "execution_count": 457,
   "outputs": [],
   "source": [
    "class NeuralNetwork:\n",
    "    def __init__(self,x,y):\n",
    "        self.input = x\n",
    "        self.weights1 = np.random.rand(self.input.shape[1],4)\n",
    "        self.weights2 = np.random(4,1)\n",
    "        self.y = y\n",
    "        self.output = np.zeros(y.shape)\n",
    "    def feedforward(self):\n",
    "        self.layer1 = sigmoid(np.dot(self.input, self.weights1))\n",
    "        self.output = sigmoid(np.dot(self.layer1, self.weights2))\n",
    "    def backprop(self):\n",
    "        d_weights2 = np.dot(self.layer1.T, (2*(self.y - self.output)*sigmoid_derivative(self.output)))\n",
    "        d_weights1 = np.dot(self.input.T, (np.dot(2*(self.y - self.output)*sigmoid_derivative(self.output), self.weights2.T)*sigmoid_derivative(self.layer1)))\n",
    "        self.weights1 += d_weights1\n",
    "        self.weights2 += d_weights2"
   ],
   "metadata": {
    "collapsed": false,
    "pycharm": {
     "name": "#%%\n"
    }
   }
  },
  {
   "cell_type": "markdown",
   "source": [
    "Нейронные сети базируются на определенных алгоритмах и математических функциях. Сначала может казаться, что разобраться в них довольно сложно. Но существуют готовые библиотеки машинного обучения для построения и тренировки нейросетей, позволяющие не углубляться в их устройство.\n",
    "\n",
    "\n",
    "### Задание\n",
    "\n",
    "`\n",
    "Реализовать классы нейросетей по аналогии с классом OurNeuralNetwork. Данные нейросети:\n",
    "\tтри входа (x_1,x_2,x_3 );\n",
    "\tтри нейрона в скрытых слоях (h_1,h_2,h_3);\n",
    "\tвыход (o_1).\n",
    "Нейроны имеют идентичные веса и пороги:\n",
    "\tw = [0.5,0.5,0.5]\n",
    "\tb = 0\n",
    "Данные нейросети:\n",
    "\tдва входа (x_1,x_2);\n",
    "\tдва нейрона в скрытых слоях (h_1,h_2);\n",
    "\tдва выхода (o_1,o_2 ).\n",
    "Нейроны имеют идентичные веса и пороги:\n",
    "\tw = [1,0];\n",
    "\tb = 1.\n",
    "`"
   ],
   "metadata": {
    "collapsed": false
   }
  },
  {
   "cell_type": "code",
   "execution_count": 458,
   "outputs": [
    {
     "name": "stdout",
     "output_type": "stream",
     "text": [
      "0.8151036049051821\n"
     ]
    }
   ],
   "source": [
    "import numpy as np\n",
    "class OurNeuralNetwork:\n",
    "\n",
    "    def __init__(self):\n",
    "        weights = np.array([0.5,0.5, 0.5])\n",
    "        bias = 0\n",
    "        self.h1 = Neuron(weights,bias)\n",
    "        self.h2 = Neuron(weights,bias)\n",
    "        self.h3 = Neuron(weights,bias)\n",
    "        self.o1 = Neuron(weights,bias)\n",
    "    def feedforward(self,x):\n",
    "        out_h1 = self.h1.feedforward(x)\n",
    "        out_h2 = self.h2.feedforward(x)\n",
    "        out_h3 = self.h3.feedforward(x)\n",
    "        out_o1 = self.o1.feedforward(np.array([out_h1, out_h2, out_h3]))\n",
    "        return out_o1\n",
    "network = OurNeuralNetwork()\n",
    "x = np.array([2,3,4])\n",
    "print(network.feedforward(x))\n"
   ],
   "metadata": {
    "collapsed": false,
    "pycharm": {
     "name": "#%%\n"
    }
   }
  },
  {
   "cell_type": "markdown",
   "source": [
    "### Задание:\n",
    "\n",
    "Реализуйте классы нейронных сетей с использованием других функций активации.\n",
    "\n",
    "<div align=\"сenter\">\n",
    "<img src=\"https://sun1.userapi.com/sun1-21/s/v1/if2/JMA4e7_VY474gCimZqC7lhi0KEc60PwPyruh0FnYrFWaVLB-1HpC9uc1-4RKPMAgaivt3cJyxGT9sJUY-A8x52dW.jpg?size=549x576&quality=96&type=album\" align=\"сenter\" style=\"width:40%\"\n",
    "</div>\n"
   ],
   "metadata": {
    "collapsed": false,
    "pycharm": {
     "name": "#%% md\n"
    }
   }
  },
  {
   "cell_type": "code",
   "execution_count": 459,
   "outputs": [
    {
     "name": "stdout",
     "output_type": "stream",
     "text": [
      "0.9990889488055994\n"
     ]
    }
   ],
   "source": [
    "import numpy as np\n",
    "def sigmoid(x):\n",
    "    return 1/(1+np.exp(-x))\n",
    "class Neuron:\n",
    "    def __init__(self,weights, bias):\n",
    "        self.weights = weights\n",
    "        self.bias = bias\n",
    "    def feedforward(self,inputs):\n",
    "        total = np.dot(self.weights, inputs) + self.bias\n",
    "        return sigmoid(total)\n",
    "weights = np.array([0, 1])\n",
    "bias = 4\n",
    "n = Neuron(weights, bias)\n",
    "x = np.array([2,3])\n",
    "print(n.feedforward(x))"
   ],
   "metadata": {
    "collapsed": false,
    "pycharm": {
     "name": "#%%\n"
    }
   }
  },
  {
   "cell_type": "code",
   "execution_count": 460,
   "outputs": [
    {
     "name": "stdout",
     "output_type": "stream",
     "text": [
      "0.9999983369439447\n"
     ]
    }
   ],
   "source": [
    "import numpy as np\n",
    "def tanh(x):\n",
    "    return np.tanh(x)\n",
    "class Neuron:\n",
    "    def __init__(self,weights, bias):\n",
    "        self.weights = weights\n",
    "        self.bias = bias\n",
    "    def feedforward(self,inputs):\n",
    "        total = np.dot(self.weights, inputs) + self.bias\n",
    "        return tanh(total)\n",
    "weights = np.array([0, 1])\n",
    "bias = 4\n",
    "n = Neuron(weights, bias)\n",
    "x = np.array([2,3])\n",
    "print(n.feedforward(x))"
   ],
   "metadata": {
    "collapsed": false,
    "pycharm": {
     "name": "#%%\n"
    }
   }
  },
  {
   "cell_type": "code",
   "execution_count": 461,
   "outputs": [
    {
     "name": "stdout",
     "output_type": "stream",
     "text": [
      "7\n"
     ]
    }
   ],
   "source": [
    "import numpy as np\n",
    "def ReLu(x):\n",
    "    return max(0,x)\n",
    "class Neuron:\n",
    "    def __init__(self,weights, bias):\n",
    "        self.weights = weights\n",
    "        self.bias = bias\n",
    "    def feedforward(self,inputs):\n",
    "        total = np.dot(self.weights, inputs) + self.bias\n",
    "        return ReLu(total)\n",
    "weights = np.array([0, 1])\n",
    "bias = 4\n",
    "n = Neuron(weights, bias)\n",
    "x = np.array([2,3])\n",
    "print(n.feedforward(x))\n"
   ],
   "metadata": {
    "collapsed": false,
    "pycharm": {
     "name": "#%%\n"
    }
   }
  },
  {
   "cell_type": "markdown",
   "source": [
    "### Введение в нейронные сети с помощью Scikit-Learn в Python\n",
    "\n",
    "Теперь мы знаем, что такое нейронные сети и какие шаги необходимо\n",
    "выполнить, чтобы построить простую нейронную сеть с плотными связями.\n",
    "В этом разделе мы попытаемся построить простую нейронную сеть, которая\n",
    "предсказывает класс, к которому принадлежит данное растение ириса. Мы\n",
    "будем использовать библиотеку Python Scikit-Learn для создания нашей\n",
    "нейронной сети.\n",
    "\n",
    "Sklearn предоставляет 2 оценщика для задач классификации и\n",
    "регрессии соответственно:\n",
    "\n",
    "1. MLPClassifier;\n",
    "2. MLPRegressor\n",
    "\n",
    "Начнем с импорта необходимых библиотек."
   ],
   "metadata": {
    "collapsed": false,
    "pycharm": {
     "name": "#%% md\n"
    }
   }
  },
  {
   "cell_type": "code",
   "execution_count": 462,
   "outputs": [],
   "source": [
    "# Загрузка библиотека\n",
    "import numpy as np\n",
    "import pandas as pd\n",
    "import matplotlib.pyplot as plt\n",
    "import sklearn"
   ],
   "metadata": {
    "collapsed": false,
    "pycharm": {
     "name": "#%%\n"
    }
   }
  },
  {
   "cell_type": "markdown",
   "source": [
    "### MLPClassifier\n",
    "Загрузка данных\n",
    "\n",
    "Мы будем загружать два набора данных.\n",
    "\n",
    "Набор данных цифр: мы будем использовать набор данных цифр,\n",
    "который имеет изображения размером 8x8 для цифр 0-9. Ниже мы будем\n",
    "использовать цифровые данные для задач классификации.\n",
    "\n",
    "Набор данных о жилье в Бостоне: мы будем использовать набор\n",
    "данных о жилье в Бостоне, который содержит информацию о различных\n",
    "свойствах дома, таких как среднее количество комнат, уровень преступности\n",
    "на душу населения в городе и т. д. Мы будем использовать его для задач\n",
    "регрессии.\n",
    "\n",
    "Sklearn предоставляет оба этих набора данных. Мы можем загрузить\n",
    "их, вызвав методы load_digits() и load_boston()"
   ],
   "metadata": {
    "collapsed": false
   }
  },
  {
   "cell_type": "code",
   "execution_count": 463,
   "outputs": [
    {
     "name": "stdout",
     "output_type": "stream",
     "text": [
      "Dataset Sizes:  (1797, 64) (1797,)\n"
     ]
    }
   ],
   "source": [
    "from sklearn.datasets import load_digits, load_boston\n",
    "\n",
    "digits = load_digits()\n",
    "X_digits, Y_digits = digits.data, digits.target\n",
    "print('Dataset Sizes: ', X_digits.shape, Y_digits.shape)"
   ],
   "metadata": {
    "collapsed": false,
    "pycharm": {
     "name": "#%%\n"
    }
   }
  },
  {
   "cell_type": "code",
   "execution_count": 464,
   "outputs": [
    {
     "name": "stdout",
     "output_type": "stream",
     "text": [
      "Dataset Sizes:  (506, 13) (506,)\n"
     ]
    },
    {
     "name": "stderr",
     "output_type": "stream",
     "text": [
      "c:\\users\\starw\\pycharmprojects\\prac1\\venv\\lib\\site-packages\\sklearn\\utils\\deprecation.py:87: FutureWarning: Function load_boston is deprecated; `load_boston` is deprecated in 1.0 and will be removed in 1.2.\n",
      "\n",
      "    The Boston housing prices dataset has an ethical problem. You can refer to\n",
      "    the documentation of this function for further details.\n",
      "\n",
      "    The scikit-learn maintainers therefore strongly discourage the use of this\n",
      "    dataset unless the purpose of the code is to study and educate about\n",
      "    ethical issues in data science and machine learning.\n",
      "\n",
      "    In this special case, you can fetch the dataset from the original\n",
      "    source::\n",
      "\n",
      "        import pandas as pd\n",
      "        import numpy as np\n",
      "\n",
      "\n",
      "        data_url = \"http://lib.stat.cmu.edu/datasets/boston\"\n",
      "        raw_df = pd.read_csv(data_url, sep=\"\\s+\", skiprows=22, header=None)\n",
      "        data = np.hstack([raw_df.values[::2, :], raw_df.values[1::2, :2]])\n",
      "        target = raw_df.values[1::2, 2]\n",
      "\n",
      "    Alternative datasets include the California housing dataset (i.e.\n",
      "    :func:`~sklearn.datasets.fetch_california_housing`) and the Ames housing\n",
      "    dataset. You can load the datasets as follows::\n",
      "\n",
      "        from sklearn.datasets import fetch_california_housing\n",
      "        housing = fetch_california_housing()\n",
      "\n",
      "    for the California housing dataset and::\n",
      "\n",
      "        from sklearn.datasets import fetch_openml\n",
      "        housing = fetch_openml(name=\"house_prices\", as_frame=True)\n",
      "\n",
      "    for the Ames housing dataset.\n",
      "    \n",
      "  warnings.warn(msg, category=FutureWarning)\n"
     ]
    }
   ],
   "source": [
    "boston = load_boston()\n",
    "X_boston, Y_boston = boston.data, boston.target\n",
    "print('Dataset Sizes: ', X_boston.shape, Y_boston.shape)"
   ],
   "metadata": {
    "collapsed": false,
    "pycharm": {
     "name": "#%%\n"
    }
   }
  },
  {
   "cell_type": "markdown",
   "source": [
    "#### Классификация\n",
    "MLPClassifier — это клвсс, доступный как часть модуля neuro_network\n",
    "sklearn для выполнения задач классификации с использованием\n",
    "многослойного персептрона.\n",
    "\n",
    "Как обычно разделим набор данных на две части:\n",
    "\n",
    "- данные обучения, которые будут использоваться для модели обучения;\n",
    "- тестовые данные, по которым будет проверяться точность обученной модели.\n",
    "\n",
    "Функция train_test_split модуля model_selection sklearn поможет нам\n",
    "разделить данные на два набора: 80% для обучения и 20% для тестирования.\n",
    "Мы также используем seed(random_state=123) с train_test_split, чтобы мы\n",
    "всегда получали одно и то же разделение и могли сравнивать и\n",
    "воспроизволить результаты в будущем."
   ],
   "metadata": {
    "collapsed": false
   }
  },
  {
   "cell_type": "code",
   "execution_count": 465,
   "outputs": [
    {
     "name": "stdout",
     "output_type": "stream",
     "text": [
      "Train/Test Sizes:  (1437, 64) (360, 64) (1437,) (360,)\n"
     ]
    }
   ],
   "source": [
    "from sklearn.model_selection import train_test_split\n",
    "\n",
    "X_train, X_test, Y_train, Y_test = train_test_split(X_digits, Y_digits, train_size=0.80, test_size=0.20, stratify=Y_digits, random_state=123)\n",
    "print('Train/Test Sizes: ', X_train.shape, X_test.shape, Y_train.shape, Y_test.shape)"
   ],
   "metadata": {
    "collapsed": false,
    "pycharm": {
     "name": "#%%\n"
    }
   }
  },
  {
   "cell_type": "code",
   "execution_count": 466,
   "outputs": [
    {
     "data": {
      "text/plain": "MLPClassifier(random_state=123)"
     },
     "execution_count": 466,
     "metadata": {},
     "output_type": "execute_result"
    }
   ],
   "source": [
    "# Для начала натренируем модель MLPClassifier с параметрами по умолчанию\n",
    "# для тренировочных данных.\n",
    "\n",
    "from sklearn.neural_network import MLPClassifier\n",
    "\n",
    "mlp_classifier = MLPClassifier(random_state=123)\n",
    "mlp_classifier.fit(X_train, Y_train)"
   ],
   "metadata": {
    "collapsed": false,
    "pycharm": {
     "name": "#%%\n"
    }
   }
  },
  {
   "cell_type": "code",
   "execution_count": 467,
   "outputs": [
    {
     "name": "stdout",
     "output_type": "stream",
     "text": [
      "[5 9 9 6 1 6 6 9 8 7 4 2 1 4 3]\n",
      "[5 9 9 6 1 6 6 9 8 7 4 2 1 4 3]\n",
      "Test Accuracy: 0.983\n",
      "Training Accuracy: 1.000\n"
     ]
    }
   ],
   "source": [
    "Y_preds = mlp_classifier.predict(X_test)\n",
    "\n",
    "print(Y_preds[:15])\n",
    "print(Y_test[:15])\n",
    "# метод score для оценки точноси моделей классификации\n",
    "print('Test Accuracy: %.3f'%mlp_classifier.score(X_test, Y_test))\n",
    "\n",
    "print('Training Accuracy: %.3f'%mlp_classifier.score(X_train, Y_train))"
   ],
   "metadata": {
    "collapsed": false,
    "pycharm": {
     "name": "#%%\n"
    }
   }
  },
  {
   "cell_type": "code",
   "execution_count": 468,
   "outputs": [
    {
     "data": {
      "text/plain": "<Figure size 432x432 with 2 Axes>",
      "image/png": "[encoded data removed]"
     },
     "metadata": {
      "needs_background": "light"
     },
     "output_type": "display_data"
    }
   ],
   "source": [
    "# Cоздадим метод plot_confusion_matrix(), который принимает исходные и\n",
    "# предсказанные метки данных по модели. Затем он строит матрицу путаницы,\n",
    "# используя matplotlib\n",
    "\n",
    "from sklearn.metrics import confusion_matrix\n",
    "\n",
    "def plot_confusion_matrix(Y_test, Y_preds):\n",
    "    conf_mat = confusion_matrix(Y_test, Y_preds)\n",
    "    #print(conf_mat)\n",
    "    fig = plt.figure(figsize=(6,6))\n",
    "    plt.matshow(conf_mat, cmap=plt.cm.Blues, fignum=1)\n",
    "    plt.yticks(range(10), range(10))\n",
    "    plt.xticks(range(10), range(10))\n",
    "    plt.colorbar();\n",
    "    for i in range(10):\n",
    "        for j in range(10):\n",
    "            plt.text(i-0.2, j+0.1, str(conf_mat[j, i]), color='tab:red')\n",
    "\n",
    "plot_confusion_matrix(Y_test, mlp_classifier.predict(X_test))"
   ],
   "metadata": {
    "collapsed": false,
    "pycharm": {
     "name": "#%%\n"
    }
   }
  },
  {
   "cell_type": "markdown",
   "source": [
    "Ниже приведен список важных атрибутов, доступных с MLPClassifier,\n",
    "которые могут предоставить значимую информацию после обучения\n",
    "модели.\n",
    "\n",
    "- loss_ — возвращает убыток после завершения процесса обучения.\n",
    "- coefs_ — возвращает массив длины n_layers-1, где каждый элемент представляет веса, связанные с уровнем i.\n",
    "- intercepts_ — возвращает массив длины n_layers-1, где каждый элемент представляет собой перехват, связанный с персептронами слоя i.\n",
    "- n_iter_ — количество итераций, для которых выполнялась оценка.\n",
    "- out_activation_ — возвращает имя функции активации выходного слоя."
   ],
   "metadata": {
    "collapsed": false
   }
  },
  {
   "cell_type": "code",
   "execution_count": 469,
   "outputs": [
    {
     "name": "stdout",
     "output_type": "stream",
     "text": [
      "Loss: 0.003472868499418059\n",
      "Number of Coefs: 2\n",
      "Number of Intercepts: 2\n",
      "Number of Iterations for Which Estimator Ran: 125\n",
      "Name of Output Layer Activation Function: softmax\n"
     ]
    }
   ],
   "source": [
    "print('Loss:', mlp_classifier.loss_)\n",
    "print('Number of Coefs:', len(mlp_classifier.coefs_))\n",
    "print('Number of Intercepts:', len(mlp_classifier.intercepts_))\n",
    "print('Number of Iterations for Which Estimator Ran:', mlp_classifier.n_iter_)\n",
    "print('Name of Output Layer Activation Function:', mlp_classifier.out_activation_)"
   ],
   "metadata": {
    "collapsed": false,
    "pycharm": {
     "name": "#%%\n"
    }
   }
  },
  {
   "cell_type": "markdown",
   "source": [
    "### MLPRegressor\n",
    "MLPRegressor — это класс, доступный как часть библиотеки\n",
    "neuro_network sklearn для выполнения задач регрессии с использованием\n",
    "многослойного персептрона. Также разделим набор данных на две части:\n",
    "\n",
    "- данные обучения (80%), которые будут использоваться для модели обучения;\n",
    "- тестовые данные (20%), по которым будет проверяться точность обученной модели."
   ],
   "metadata": {
    "collapsed": false
   }
  },
  {
   "cell_type": "code",
   "execution_count": 470,
   "outputs": [
    {
     "name": "stdout",
     "output_type": "stream",
     "text": [
      "Train/Test Sizes: (404, 13) (102, 13) (404,) (102,)\n"
     ]
    }
   ],
   "source": [
    "X_train, X_test, Y_train, Y_test = train_test_split(X_boston, Y_boston, train_size=0.80, test_size=0.20, random_state=123)\n",
    "print('Train/Test Sizes:', X_train.shape, X_test.shape, Y_train.shape, Y_test.shape)"
   ],
   "metadata": {
    "collapsed": false,
    "pycharm": {
     "name": "#%%\n"
    }
   }
  },
  {
   "cell_type": "code",
   "execution_count": 471,
   "outputs": [
    {
     "data": {
      "text/plain": "MLPRegressor(random_state=123)"
     },
     "execution_count": 471,
     "metadata": {},
     "output_type": "execute_result"
    }
   ],
   "source": [
    "from sklearn.neural_network import MLPRegressor\n",
    "\n",
    "mlp_regressor = MLPRegressor(random_state=123)\n",
    "mlp_regressor.fit(X_train, Y_train)"
   ],
   "metadata": {
    "collapsed": false,
    "pycharm": {
     "name": "#%%\n"
    }
   }
  },
  {
   "cell_type": "code",
   "execution_count": 472,
   "outputs": [
    {
     "name": "stdout",
     "output_type": "stream",
     "text": [
      "[ 7.32543601 24.33417853 32.46700507 15.19086054 25.6749167  25.07797685\n",
      " 27.20985668  2.62269853 15.25691994 28.02637784]\n",
      "[15.  26.6 45.4 20.8 34.9 21.9 28.7  7.2 20.  32.2]\n",
      "Test R^2 Score : 0.462\n",
      "Training R^2 Score : 0.510\n"
     ]
    }
   ],
   "source": [
    "Y_preds = mlp_regressor.predict(X_test)\n",
    "\n",
    "print(Y_preds[:10])\n",
    "print(Y_test[:10])\n",
    "# метод score оценивает точность моделей классификации\n",
    "print('Test R^2 Score : %.3f'%mlp_regressor.score(X_test, Y_test))\n",
    "print('Training R^2 Score : %.3f'%mlp_regressor.score(X_train, Y_train))"
   ],
   "metadata": {
    "collapsed": false,
    "pycharm": {
     "name": "#%%\n"
    }
   }
  },
  {
   "cell_type": "code",
   "execution_count": 473,
   "outputs": [
    {
     "name": "stdout",
     "output_type": "stream",
     "text": [
      "Loss: 28.538174061119623\n"
     ]
    }
   ],
   "source": [
    "# MLPRegressor имеет все атрибуты такие же, как и у MLPClassifier:\n",
    "print('Loss:', mlp_regressor.loss_)"
   ],
   "metadata": {
    "collapsed": false,
    "pycharm": {
     "name": "#%%\n"
    }
   }
  },
  {
   "cell_type": "code",
   "execution_count": 474,
   "outputs": [
    {
     "name": "stdout",
     "output_type": "stream",
     "text": [
      "Number of Coefs: 2\n"
     ]
    },
    {
     "data": {
      "text/plain": "[(13, 100), (100, 1)]"
     },
     "execution_count": 474,
     "metadata": {},
     "output_type": "execute_result"
    }
   ],
   "source": [
    "print('Number of Coefs:', len(mlp_regressor.coefs_))\n",
    "[weights.shape for weights in mlp_regressor.coefs_]"
   ],
   "metadata": {
    "collapsed": false,
    "pycharm": {
     "name": "#%%\n"
    }
   }
  },
  {
   "cell_type": "code",
   "execution_count": 475,
   "outputs": [
    {
     "name": "stdout",
     "output_type": "stream",
     "text": [
      "Number of Iterations for Which Estimator Ran: 130\n",
      "Name of Output Layer Activation Function: identity\n"
     ]
    }
   ],
   "source": [
    "print('Number of Iterations for Which Estimator Ran:', mlp_regressor.n_iter_)\n",
    "print('Name of Output Layer Activation Function:', mlp_regressor.out_activation_)"
   ],
   "metadata": {
    "collapsed": false,
    "pycharm": {
     "name": "#%%\n"
    }
   }
  },
  {
   "cell_type": "markdown",
   "source": [
    "### 1.2.1 Задание\n",
    "Используйте классы MLPClassified и MLPRegressor для классификации и\n",
    "регрессии произвольных данных из интернета. Проведите анализ\n",
    "атрибуты, полученных моделей.\n",
    "\n",
    "Для классификации можете взять набор данных Ирисов:\n",
    "https://gist.githubusercontent.com/netj/8836201/raw/6f9306ad21398ea43cba4f7d537619d0e07d5ae3/iris.csv\n",
    "\n",
    "а для регрессии датасет зависимости заработной платы от опыта работы:\n",
    "https://raw.githubusercontent.com/AnnaShestova/salary-years-simple-linear-regression/master/Salary_Data.csv\n"
   ],
   "metadata": {
    "collapsed": false,
    "pycharm": {
     "name": "#%% md\n"
    }
   }
  },
  {
   "cell_type": "code",
   "execution_count": 476,
   "outputs": [],
   "source": [
    "import pandas as pd\n",
    "import numpy as np\n",
    "import seaborn as sns\n",
    "import matplotlib.pyplot as plt\n",
    "\n",
    "import sklearn"
   ],
   "metadata": {
    "collapsed": false,
    "pycharm": {
     "name": "#%%\n"
    }
   }
  },
  {
   "cell_type": "code",
   "execution_count": 477,
   "outputs": [
    {
     "name": "stdout",
     "output_type": "stream",
     "text": [
      "Dataset Sizes:  (150, 4) (150,)\n"
     ]
    }
   ],
   "source": [
    "from sklearn.datasets import load_iris\n",
    "\n",
    "digits = load_iris()\n",
    "X_digits, Y_digits = digits.data, digits.target\n",
    "print('Dataset Sizes: ', X_digits.shape, Y_digits.shape)\n"
   ],
   "metadata": {
    "collapsed": false,
    "pycharm": {
     "name": "#%%\n"
    }
   }
  },
  {
   "cell_type": "code",
   "execution_count": 478,
   "outputs": [
    {
     "name": "stdout",
     "output_type": "stream",
     "text": [
      "Train/Test Sizes:  (120, 4) (30, 4) (120,) (30,)\n"
     ]
    }
   ],
   "source": [
    "from sklearn.model_selection import train_test_split\n",
    "\n",
    "X_train, X_test, Y_train, Y_test = train_test_split(X_digits, Y_digits, train_size=0.80, test_size=0.20, stratify=Y_digits, random_state=123)\n",
    "print('Train/Test Sizes: ', X_train.shape, X_test.shape, Y_train.shape, Y_test.shape)"
   ],
   "metadata": {
    "collapsed": false,
    "pycharm": {
     "name": "#%%\n"
    }
   }
  },
  {
   "cell_type": "code",
   "execution_count": 479,
   "outputs": [
    {
     "name": "stderr",
     "output_type": "stream",
     "text": [
      "c:\\users\\starw\\pycharmprojects\\prac1\\venv\\lib\\site-packages\\sklearn\\neural_network\\_multilayer_perceptron.py:692: ConvergenceWarning: Stochastic Optimizer: Maximum iterations (200) reached and the optimization hasn't converged yet.\n",
      "  warnings.warn(\n"
     ]
    },
    {
     "data": {
      "text/plain": "MLPClassifier(random_state=123)"
     },
     "execution_count": 479,
     "metadata": {},
     "output_type": "execute_result"
    }
   ],
   "source": [
    "# Для начала натренируем модель MLPClassifier с параметрами по умолчанию\n",
    "# для тренировочных данных.\n",
    "\n",
    "from sklearn.neural_network import MLPClassifier\n",
    "\n",
    "mlp_classifier = MLPClassifier(random_state=123)\n",
    "mlp_classifier.fit(X_train, Y_train)"
   ],
   "metadata": {
    "collapsed": false,
    "pycharm": {
     "name": "#%%\n"
    }
   }
  },
  {
   "cell_type": "code",
   "execution_count": 480,
   "outputs": [
    {
     "name": "stdout",
     "output_type": "stream",
     "text": [
      "[1 0 2 2 0 0 2 2 2 0 0 1 2 1 2]\n",
      "[1 0 2 2 0 0 2 1 2 0 0 1 2 1 2]\n",
      "Test Accuracy: 0.933\n",
      "Training Accuracy: 0.983\n"
     ]
    }
   ],
   "source": [
    "Y_preds = mlp_classifier.predict(X_test)\n",
    "\n",
    "print(Y_preds[:15])\n",
    "print(Y_test[:15])\n",
    "# метод score для оценки точноси моделей классификации\n",
    "print('Test Accuracy: %.3f'%mlp_classifier.score(X_test, Y_test))\n",
    "\n",
    "print('Training Accuracy: %.3f'%mlp_classifier.score(X_train, Y_train))"
   ],
   "metadata": {
    "collapsed": false,
    "pycharm": {
     "name": "#%%\n"
    }
   }
  },
  {
   "cell_type": "code",
   "execution_count": 481,
   "outputs": [
    {
     "data": {
      "text/plain": "<Figure size 216x216 with 2 Axes>",
      "image/png": "[encoded data removed]"
     },
     "metadata": {
      "needs_background": "light"
     },
     "output_type": "display_data"
    }
   ],
   "source": [
    "# Cоздадим метод plot_confusion_matrix(), который принимает исходные и\n",
    "# предсказанные метки данных по модели. Затем он строит матрицу путаницы,\n",
    "# используя matplotlib\n",
    "\n",
    "from sklearn.metrics import confusion_matrix\n",
    "\n",
    "def plot_confusion_matrix(Y_test, Y_preds):\n",
    "    conf_mat = confusion_matrix(Y_test, Y_preds)\n",
    "    #print(conf_mat)\n",
    "    fig = plt.figure(figsize=(3,3))\n",
    "    plt.matshow(conf_mat, cmap=plt.cm.Blues, fignum=1)\n",
    "    plt.yticks(range(3), range(3))\n",
    "    plt.xticks(range(3), range(3))\n",
    "    plt.colorbar();\n",
    "    for i in range(3):\n",
    "        for j in range(3):\n",
    "            plt.text(i-0.2, j+0.1, str(conf_mat[j, i]), color='tab:red')\n",
    "\n",
    "plot_confusion_matrix(Y_test, mlp_classifier.predict(X_test))"
   ],
   "metadata": {
    "collapsed": false,
    "pycharm": {
     "name": "#%%\n"
    }
   }
  },
  {
   "cell_type": "markdown",
   "source": [
    "### Регрессия"
   ],
   "metadata": {
    "collapsed": false
   }
  },
  {
   "cell_type": "code",
   "execution_count": 485,
   "outputs": [
    {
     "name": "stdout",
     "output_type": "stream",
     "text": [
      "\"salary\" Dataset Sizes: (30, 1) (30,)\n",
      "Train/Test Sizes :  (24, 1) (6, 1) (24,) (6,)\n",
      "[ 55265.2045971  126554.5591937   52335.80522199 116782.59147446\n",
      "  55265.2045971  117759.05793283]\n",
      "[ 54445. 121872.  56642. 116969.  64445. 112635.]\n",
      "Test R*2 Score : 0.971\n",
      "Training R*2 Score : 0.948\n"
     ]
    }
   ],
   "source": [
    "url=r'https://raw.githubusercontent.com/AnnaShestova/salary-years-simple-linear-regression/master/Salary_Data.csv'\n",
    "salary = pd.read_csv(url)\n",
    "\n",
    "X_salary = salary.iloc[:, :-1].values\n",
    "Y_salary = salary.iloc[:, 1].values\n",
    "print('\"salary\" Dataset Sizes:',X_salary.shape, Y_salary.shape)\n",
    "\n",
    "X_train, X_test, Y_train, Y_test = train_test_split(X_salary, Y_salary, train_size=0.80, test_size=0.20, random_state=123)\n",
    "print('Train/Test Sizes : ', X_train.shape, X_test. shape, Y_train.shape, Y_test.shape)\n",
    "\n",
    "mlp_regressor = MLPRegressor(random_state=123, max_iter=50000)\n",
    "mlp_regressor.fit(X_train, Y_train)\n",
    "\n",
    "Y_preds = mlp_regressor.predict(X_test)\n",
    "\n",
    "print(Y_preds[:10])\n",
    "print(Y_test[:10])\n",
    "print('Test R*2 Score : %.3f'%mlp_regressor.score(X_test, Y_test))\n",
    "print('Training R*2 Score : %.3f'%mlp_regressor.score(X_train, Y_train))"
   ],
   "metadata": {
    "collapsed": false,
    "pycharm": {
     "name": "#%%\n"
    }
   }
  },
  {
   "cell_type": "code",
   "execution_count": 483,
   "outputs": [
    {
     "name": "stdout",
     "output_type": "stream",
     "text": [
      "Loss : 16873681.689960103\n",
      "Number of Coefs :  2\n",
      "Number of Iterations for Which Estimator Ran : 30344\n",
      "Name of Output Layer Activation Function : identity\n"
     ]
    }
   ],
   "source": [
    "print(\"Loss :\", mlp_regressor.loss_)\n",
    "print(\"Number of Coefs : \", len(mlp_regressor.coefs_))\n",
    "print(\"Number of Iterations for Which Estimator Ran :\", mlp_regressor.n_iter_)\n",
    "print(\"Name of Output Layer Activation Function :\",mlp_regressor.out_activation_)"
   ],
   "metadata": {
    "collapsed": false,
    "pycharm": {
     "name": "#%%\n"
    }
   }
  }
 ],
 "metadata": {
  "kernelspec": {
   "display_name": "Python 3",
   "language": "python",
   "name": "python3"
  },
  "language_info": {
   "codemirror_mode": {
    "name": "ipython",
    "version": 2
   },
   "file_extension": ".py",
   "mimetype": "text/x-python",
   "name": "python",
   "nbconvert_exporter": "python",
   "pygments_lexer": "ipython2",
   "version": "2.7.6"
  }
 },
 "nbformat": 4,
 "nbformat_minor": 0
}