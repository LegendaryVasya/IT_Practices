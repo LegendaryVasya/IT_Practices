{
 "cells": [
  {
   "cell_type": "markdown",
   "source": [
    "# Рабочая тетрадь №1. Основы Phyton. Библиотеки\n",
    "###  Алхимов Василий Юрьевич"
   ],
   "metadata": {
    "collapsed": false
   }
  },
  {
   "cell_type": "markdown",
   "source": [
    "## Типы данных\n",
    "Все типы данных в Python относятся к одной из 2-х категорий:\n",
    "изменяемые (mutable) и неизменяемые (immutable).\n",
    "\n",
    "_Неизменяемые объекты:_\n",
    "\n",
    "- числовые данные (int, float),\n",
    "- bool,\n",
    "- None,\n",
    "- символьные строки (class 'str'),\n",
    "- кортежи (tuple).\n",
    "\n",
    "_Изменяемые объекты:_\n",
    "\n",
    "- списки (list),\n",
    "- множества (set),\n",
    "- словари (dict).\n",
    "\n",
    "Определить тип переменной можно с помощью функции __type()__"
   ],
   "metadata": {
    "collapsed": false
   }
  },
  {
   "cell_type": "markdown",
   "source": [
    "### 1.3. Задание\n",
    "Вывести на печать и определить тип переменных."
   ],
   "metadata": {
    "collapsed": false
   }
  },
  {
   "cell_type": "code",
   "execution_count": 1,
   "outputs": [
    {
     "name": "stdout",
     "output_type": "stream",
     "text": [
      "True | <class 'bool'> \n",
      " {8, 1, 3, 7} | <class 'set'> \n",
      " {2, 'apple', 4, 5, 10} | <class 'set'> \n",
      " set() | <class 'set'> \n",
      " ('Антонова Антонина', 34, 'ж') | <class 'tuple'> \n",
      " type | <class 'str'> \n",
      " [1, 'title', 2, 'content'] | <class 'list'> \n",
      "\n"
     ]
    }
   ],
   "source": [
    "x = 5 >= 2\n",
    "A = {1, 3, 7, 8}\n",
    "B = {2, 4, 5, 10, 'apple'}\n",
    "C = A & B\n",
    "df = 'Антонова Антонина', 34, 'ж'\n",
    "z = 'type'\n",
    "D = [1, 'title', 2, 'content']\n",
    "print(x , '|', type(x),'\\n'\n",
    "     ,A , '|', type(A),'\\n'\n",
    "     ,B , '|', type(B),'\\n'\n",
    "     ,C , '|', type(C),'\\n'\n",
    "     ,df , '|', type(df),'\\n'\n",
    "     ,z , '|', type(z),'\\n'\n",
    "     ,D , '|', type(D),'\\n')"
   ],
   "metadata": {
    "collapsed": false,
    "pycharm": {
     "name": "#%%\n"
    }
   }
  },
  {
   "cell_type": "markdown",
   "source": [
    "## Условный оператор\n",
    "\n",
    "__If – Условный оператор__\n",
    "В коде часто приходится проверять выполнимость или невыполнимость каких-то условий. Синтаксис:\n",
    "&emsp;if <условие1 (булевское выражение)> :\n",
    "&emsp;&emsp;<код, который выполнится, если условие верно>\n",
    "&emsp;elif <условие2 (булевское выражение)>:\n",
    "&emsp;&emsp;<код, который выполнится, если условие1 было неверно, а условие2 верно>\n",
    "&emsp;else:\n",
    "&emsp;&emsp;<код, который выполнится, если условие1 и условие2 были неверны>\n",
    "Обратите внимание, что код, который должен выполняться внутри каждого условия, записывается с отступом в 4 пробела от уровня if, elif и else: в питоне области видимости переменных обозначаются отступами.\n",
    "&emsp;&emsp;___То есть, отступы позволяют понять, где начинается код, который должен выполняться при выполнении условия в if, и где заканчивается.___"
   ],
   "metadata": {
    "collapsed": false
   }
  },
  {
   "cell_type": "markdown",
   "source": [
    "### 2.3 Задание\n",
    "Напишите код. Задается х, напечатать какому из интервалов принадлежит: (-infinity, -5),[-5, 5] или от (5, +infinity)"
   ],
   "metadata": {
    "collapsed": false
   }
  },
  {
   "cell_type": "code",
   "execution_count": 2,
   "outputs": [
    {
     "name": "stdout",
     "output_type": "stream",
     "text": [
      "x принадлежит интервалу [-5, 5]\n"
     ]
    }
   ],
   "source": [
    "import math\n",
    "test = math.inf\n",
    "x = 3\n",
    "if (x >= -test) and (x <= -5):\n",
    "    print('x принадлежит интервалу (-infinity, -5)')\n",
    "elif (x >= -5) and (x <= 5):\n",
    "    print('x принадлежит интервалу [-5, 5]')\n",
    "else:\n",
    "    print('x принадлежит интервалу (5, +infinity)')"
   ],
   "metadata": {
    "collapsed": false,
    "pycharm": {
     "name": "#%%\n"
    }
   }
  },
  {
   "cell_type": "markdown",
   "source": [
    "## Циклы, массивы, срезы\n",
    "__Циклы - for и while__\n",
    "Цикл __while__ проверяет истинность условия, и если условие истинно, то\n",
    "выполняет инструкции цикла.\n",
    "&emsp;Синтаксис:\n",
    "&emsp;while условие:\n",
    "&emsp;&emsp;инструкции\n",
    "&emsp;Инструкции, которые относятся к циклу while, располагаются на последующих строках и должны иметь отступ от начала ключевого слова while.\n",
    "&emsp;Цикл __for__ проходит по набору значений, помещает каждое значение в\n",
    "переменную с которой в цикле можно производить различные действия.\n",
    "&emsp;Синтаксис:\n",
    "&emsp;for переменная in набор\\_значений:\n",
    "&emsp;&emsp;инструкции\n",
    "&emsp;После ключевого слова __for__ идет название переменной, в которую\n",
    "будут помещаться значения. После оператора __in__ указывается набор значений\n",
    "и двоеточие. Инструкции, которые относятся к циклу, располагаются на\n",
    "последующих строках и должны иметь отступ.\n",
    "&emsp;При создании цикла удобно пользоваться функцией __range(a, b)__,\n",
    "которая создает последовательность чисел от __a__ до __b-1__."
   ],
   "metadata": {
    "collapsed": false
   }
  },
  {
   "cell_type": "markdown",
   "source": [
    "### 3.3.1 Задание\n",
    "Вывести все числа от 1 до 10 с шагом 3 в обратном порядке."
   ],
   "metadata": {
    "collapsed": false
   }
  },
  {
   "cell_type": "code",
   "execution_count": 3,
   "outputs": [
    {
     "name": "stdout",
     "output_type": "stream",
     "text": [
      "10\n",
      "7\n",
      "4\n",
      "1\n"
     ]
    }
   ],
   "source": [
    "x = 10\n",
    "while x >= 1:\n",
    "    print(x)\n",
    "    x -= 3"
   ],
   "metadata": {
    "collapsed": false,
    "pycharm": {
     "name": "#%%\n"
    }
   }
  },
  {
   "cell_type": "markdown",
   "source": [
    "### 3.3.2 Задание\n",
    "При решении задач машинного обучения часто в качестве объектов исследования выступает человек. Создайте список значимых характеристик (признаков), идентифицирующих человека. Выведите список на экран."
   ],
   "metadata": {
    "collapsed": false
   }
  },
  {
   "cell_type": "code",
   "execution_count": 4,
   "outputs": [
    {
     "name": "stdout",
     "output_type": "stream",
     "text": [
      "Eyes Mouth Nose Forehead\n"
     ]
    }
   ],
   "source": [
    "human_id = [\"Eyes\", \"Mouth\", \"Nose\", \"Forehead\"]\n",
    "print(*human_id)"
   ],
   "metadata": {
    "collapsed": false,
    "pycharm": {
     "name": "#%%\n"
    }
   }
  },
  {
   "cell_type": "markdown",
   "source": [
    "### 3.3.3 Задание\n",
    "Создать список чисел от 2 до 15 с шагом 1."
   ],
   "metadata": {
    "collapsed": false
   }
  },
  {
   "cell_type": "code",
   "execution_count": 5,
   "outputs": [
    {
     "name": "stdout",
     "output_type": "stream",
     "text": [
      "[2, 3, 4, 5, 6, 7, 8, 9, 10, 11, 12, 13, 14]\n"
     ]
    }
   ],
   "source": [
    "lst = range(2, 15, 1)\n",
    "print(list(lst))"
   ],
   "metadata": {
    "collapsed": false,
    "pycharm": {
     "name": "#%%\n"
    }
   }
  },
  {
   "cell_type": "markdown",
   "source": [
    "### 3.3.4 Задание\n",
    "Выведите числа из примера на for c функцией range() (3.2.4) в обратном порядке."
   ],
   "metadata": {
    "collapsed": false
   }
  },
  {
   "cell_type": "code",
   "execution_count": 6,
   "outputs": [
    {
     "name": "stdout",
     "output_type": "stream",
     "text": [
      "105\n",
      "80\n",
      "55\n",
      "30\n",
      "5\n"
     ]
    }
   ],
   "source": [
    "for i in range(105, 4, -25):\n",
    "    print(i)"
   ],
   "metadata": {
    "collapsed": false,
    "pycharm": {
     "name": "#%%\n"
    }
   }
  },
  {
   "cell_type": "markdown",
   "source": [
    "### 3.3.5 Задание\n",
    "Срез. Напишите код, который все элементы массива x с четными индексами переставит в обратном порядке. Т.е. если x = [0, 1, 2, 3, 4, 5, 6, 7, 8, 9], то код должен сформировать [8, 1, 6, 3, 4, 5, 2, 7, 0, 9]."
   ],
   "metadata": {
    "collapsed": false
   }
  },
  {
   "cell_type": "code",
   "execution_count": 7,
   "outputs": [
    {
     "name": "stdout",
     "output_type": "stream",
     "text": [
      "[8, 1, 6, 3, 4, 5, 2, 7, 0, 9]\n",
      "\n"
     ]
    }
   ],
   "source": [
    "list_main = [0, 1, 2, 3, 4, 5, 6, 7, 8, 9]\n",
    "a = reversed(list_main[::2])\n",
    "list_main[::2] = a\n",
    "print(list_main)\n",
    "print(*a)"
   ],
   "metadata": {
    "collapsed": false,
    "pycharm": {
     "name": "#%%\n"
    }
   }
  },
  {
   "cell_type": "markdown",
   "source": [
    "## Библиотеки\n",
    "\n",
    "&emsp;Машинное обучение опирается на фундаментальные понятия и законы математики и информатики. Библиотека математических функций (math) применяется при решении большинства прикладных задач анализа данных. Также, и некоторые другие библиотеки Python содержат математические функции (например, NumPy). Важную роль играет библиотека matplotlib, которая позволяет производить визуализацию расчетов в удобной для восприятия человеком форме: графики, диаграммы, гистограммы.\n",
    "&emsp;Подключение библиотек – синтаксис:\n",
    "import math as m\n",
    "import numpy as np\n",
    "import matplotlib.pyplot as plt\n",
    "etc…\n",
    "Библиотеки в python содержат не только функции, позволяющие решать различные задачи, но и некоторые популярные константы, например число Эйлера."
   ],
   "metadata": {
    "collapsed": false
   }
  },
  {
   "cell_type": "markdown",
   "source": [
    "### 4.3.1 Задание\n",
    "Задайте массив случайных значений из интервала (0; 1).\n",
    "Рассчитайте средние и медианные значения для массива, сравните результаты, какие выводы можно сделать о значениях?\n",
    "Постройте точечную диаграмму рассеяния полученного ряда."
   ],
   "metadata": {
    "collapsed": false
   }
  },
  {
   "cell_type": "code",
   "execution_count": 18,
   "outputs": [
    {
     "name": "stdout",
     "output_type": "stream",
     "text": [
      "Массив:  [0.44341235 0.39302574 0.93828408 0.46519762 0.29245672 0.78085941\n",
      " 0.82470783 0.88349089 0.78344864 0.58968476]\n",
      "\n",
      "Среднее арифметическое: 0.6394568056314891\n",
      "Медиана: 0.6852720861514718\n",
      "Медиана и среднее арифметическое не одно и то же\n"
     ]
    },
    {
     "data": {
      "text/plain": "<Figure size 432x288 with 1 Axes>",
      "image/png": "[encoded data removed]"
     },
     "metadata": {
      "needs_background": "light"
     },
     "output_type": "display_data"
    }
   ],
   "source": [
    "import random\n",
    "import numpy as np\n",
    "import matplotlib.pyplot as plt\n",
    "\n",
    "counter = int(input('Введите размер массива: '))\n",
    "lst = [random.random() for i in range(counter)]\n",
    "lst_assistant = range(counter)\n",
    "\n",
    "array = np.array(list(lst))\n",
    "array_assistant = np.array(list(lst_assistant))\n",
    "print('Массив: ', array)\n",
    "\n",
    "mean = np.mean(lst)\n",
    "median = np.median(lst)\n",
    "print(f'\\nСреднее арифметическое: {mean}'\n",
    "      f'\\nМедиана: {median}')\n",
    "\n",
    "if mean != median:\n",
    "    print('Медиана и среднее арифметическое не одно и то же')\n",
    "else:\n",
    "    print('Вероятно, размер массива = 2, иначе это совпадение что медиана и среднее арифметическое равны')\n",
    "\n",
    "plt.scatter(array_assistant, array)\n",
    "plt.show()"
   ],
   "metadata": {
    "collapsed": false,
    "pycharm": {
     "name": "#%%\n"
    }
   }
  },
  {
   "cell_type": "markdown",
   "source": [
    "### 4.3.2 Задание\n",
    "Дана функция. Создать массив из 10 значений функции (x, например, изменяется от 1 до 10). Выделить срез первой половины массива и построить графики для основного массива – линейный и для среза – точечный."
   ],
   "metadata": {
    "collapsed": false
   }
  },
  {
   "cell_type": "code",
   "execution_count": 14,
   "outputs": [
    {
     "name": "stdout",
     "output_type": "stream",
     "text": [
      "Список:  [5.798917496411, 9.89559082992602, 4.194572274398421, 3.981176776342883, 4.092729058690511, 5.9386531495300146, 8.115700200778335, 138.24401824876858, 7.9179845244405165, 7.3440502300859265] \n",
      "\n",
      "Срез:  [5.798917496411, 9.89559082992602, 4.194572274398421, 3.981176776342883, 4.092729058690511] \n",
      "\n"
     ]
    },
    {
     "data": {
      "text/plain": "<Figure size 432x288 with 1 Axes>",
      "image/png": "[encoded data removed]"
     },
     "metadata": {
      "needs_background": "light"
     },
     "output_type": "display_data"
    }
   ],
   "source": [
    "import math as m\n",
    "import matplotlib.pyplot as plt\n",
    "\n",
    "lst = []\n",
    "for x in range(1, 11):\n",
    "    dividend = m.sqrt(1 + m.exp(m.sqrt(x)) + m.cos(m.pow(x, 2)))\n",
    "    divisor = m.fabs(1 - m.pow(m.sin(x), 3))\n",
    "    fraction = dividend / divisor\n",
    "    function = fraction + m.log(m.fabs(2 * x))\n",
    "    lst.append(function)\n",
    "print('Список: ', list(lst), '\\n')\n",
    "\n",
    "lst_half = lst[:5]\n",
    "print('Срез: ', list(lst_half), '\\n')\n",
    "\n",
    "plt.plot(range(1, 11), lst)\n",
    "plt.scatter(range(1, 6), lst_half, c='r')\n",
    "plt.show()"
   ],
   "metadata": {
    "collapsed": false,
    "pycharm": {
     "name": "#%%\n"
    }
   }
  },
  {
   "cell_type": "markdown",
   "source": [
    "### 4.3.3 Задание\n",
    "Дана функция. Построить график на интервале (0, 10) с шагом 1 с заливкой площади и найти эту площадь\n",
    "под ним. Для вычисления площади воспользуйтесь функцией trapz(), вычисляющей интеграл по правилу трапеции.\n",
    "Для ее корректной работы необходимо подключить следующие библиотеки:\n",
    "from scipy.integrate import simps\n",
    "from numpy import trapz"
   ],
   "metadata": {
    "collapsed": false
   }
  },
  {
   "cell_type": "code",
   "execution_count": 15,
   "outputs": [
    {
     "data": {
      "text/plain": "<Figure size 432x288 with 1 Axes>",
      "image/png": "[encoded data removed]"
     },
     "metadata": {
      "needs_background": "light"
     },
     "output_type": "display_data"
    },
    {
     "name": "stdout",
     "output_type": "stream",
     "text": [
      "5.281433013197276\n"
     ]
    }
   ],
   "source": [
    "import matplotlib.pyplot as plt\n",
    "import numpy as np\n",
    "\n",
    "x = np.arange(1.0, 10.0, 1.0)\n",
    "y = np.abs(np.cos(x * np.exp(np.cos(x) + np.log(x + 1))))\n",
    "\n",
    "plt.grid()\n",
    "plt.plot(x, y, c='r')\n",
    "plt.fill_between(x, y)\n",
    "plt.show()\n",
    "\n",
    "area = np.trapz(y)\n",
    "print(area)"
   ],
   "metadata": {
    "collapsed": false,
    "pycharm": {
     "name": "#%%\n"
    }
   }
  },
  {
   "cell_type": "markdown",
   "source": [
    "### 4.3.4 Задание\n",
    "Откройте статистические данные по стоимости акций Apple, Microsoft, Google за 12 месяцев 2021 г. Постройте 3 графика на плоскости и оцените их динамику. Подумайте, как можно улучшить визуализацию результатов.\n",
    "Для начальных данных допустимо использовать следующий ресурс: https://finance.yahoo.com"
   ],
   "metadata": {
    "collapsed": false
   }
  },
  {
   "cell_type": "code",
   "execution_count": 16,
   "outputs": [
    {
     "data": {
      "text/plain": "<Figure size 432x288 with 1 Axes>",
      "image/png": "[encoded data removed]"
     },
     "metadata": {
      "needs_background": "light"
     },
     "output_type": "display_data"
    }
   ],
   "source": [
    "import matplotlib.pyplot as plt\n",
    "\n",
    "apple = [130.98, 120.36, 121.43, 130.68, 123.87, 136.38, 145.24, 151.19, 141.11, 149.39, 164.85, 177.34]\n",
    "microsoft = [230.03, 230.44, 234.34, 250.65, 248.17, 269.88, 283.84, 300.75, 281.40, 331.01, 329.98, 336.32]\n",
    "google = [1835.73, 2036.85, 2068.62, 2410.12, 2411.56, 2506.32, 2704.41, 2909.23, 2665.31, 2965.40, 2849.04, 2893.59]\n",
    "months = ['Jan', 'Feb.', 'Mar', 'Apr', 'May', 'Jun', 'Jul', 'Aug', 'Sep', 'Oct', 'Nov', 'Dec']\n",
    "\n",
    "plt.grid()\n",
    "plt.plot(months, apple, label='Apple', c='gray')\n",
    "plt.scatter(months, apple, c='gray')\n",
    "plt.plot(months, microsoft, c='orange', label='Microsoft')\n",
    "plt.scatter(months, microsoft, c='orange')\n",
    "plt.plot(months, google, c='b', label='Google')\n",
    "plt.scatter(months, google, c='b')\n",
    "plt.legend()\n",
    "plt.show()\n"
   ],
   "metadata": {
    "collapsed": false,
    "pycharm": {
     "name": "#%%\n"
    }
   }
  },
  {
   "cell_type": "markdown",
   "source": [
    "### 4.3.5 Задание\n",
    "\n",
    "Создать простейший калькулятор, включающий основные действия для двух переменных."
   ],
   "metadata": {
    "collapsed": false
   }
  },
  {
   "cell_type": "code",
   "execution_count": 1,
   "outputs": [
    {
     "name": "stdout",
     "output_type": "stream",
     "text": [
      "\n",
      "Выберите одну из следующих операций и введите её номер:  \n",
      "1: x+y \n",
      "2: x-y \n",
      "3: y-x \n",
      "4: x*y \n",
      "5: x/y \n",
      "6: y/x \n",
      "7: e^(x+y) \n",
      "8: sin(x+y) \n",
      "9: cos(x+y) \n",
      "10: x^y\n",
      "11: y^x\n",
      "50.0\n"
     ]
    }
   ],
   "source": [
    "import math as m\n",
    "\n",
    "enter_x = float(input('x: '))\n",
    "enter_y = float(input('y: '))\n",
    "print('\\nВыберите одну из следующих операций и введите её номер: ',\n",
    "      '\\n1: x+y',\n",
    "      '\\n2: x-y',\n",
    "      '\\n3: y-x',\n",
    "      '\\n4: x*y',\n",
    "      '\\n5: x/y',\n",
    "      '\\n6: y/x',\n",
    "      '\\n7: e^(x+y)',\n",
    "      '\\n8: sin(x+y)',\n",
    "      '\\n9: cos(x+y)',\n",
    "      '\\n10: x^y'\n",
    "      '\\n11: y^x'\n",
    "      )\n",
    "\n",
    "\n",
    "def enter():\n",
    "    inp = input('Введите номер операции: ')\n",
    "    switcher(inp, enter_x, enter_y)\n",
    "\n",
    "\n",
    "def switcher(argument, x, y):\n",
    "    if argument == '1':\n",
    "        print(x + y)\n",
    "    elif argument == '2':\n",
    "        print(x - y)\n",
    "    elif argument == '3':\n",
    "        print(y - x)\n",
    "    elif argument == '4':\n",
    "        print(x * y)\n",
    "    elif argument == '5':\n",
    "        if y != 0.0:\n",
    "            print(x / y)\n",
    "        else:\n",
    "            print(\"Деление на 0\")\n",
    "    elif argument == '6':\n",
    "        if x != 0.0:\n",
    "            print(y / x)\n",
    "        else:\n",
    "            print(\"Деление на 0\")\n",
    "    elif argument == '7':\n",
    "        print(m.exp(x + y))\n",
    "    elif argument == '8':\n",
    "        print(m.sin(x + y))\n",
    "    elif argument == '9':\n",
    "        print(m.cos(x + y))\n",
    "    elif argument == '10':\n",
    "        print(m.pow(x, y))\n",
    "    elif argument == '11':\n",
    "        print(m.pow(y, x))\n",
    "    else:\n",
    "        enter()\n",
    "\n",
    "\n",
    "enter()"
   ],
   "metadata": {
    "collapsed": false,
    "pycharm": {
     "name": "#%%\n"
    }
   }
  },
  {
   "cell_type": "code",
   "execution_count": null,
   "outputs": [],
   "source": [
    "\n",
    "\n"
   ],
   "metadata": {
    "collapsed": false,
    "pycharm": {
     "name": "#%%\n"
    }
   }
  }
 ],
 "metadata": {
  "kernelspec": {
   "display_name": "Python 3",
   "language": "python",
   "name": "python3"
  },
  "language_info": {
   "codemirror_mode": {
    "name": "ipython",
    "version": 2
   },
   "file_extension": ".py",
   "mimetype": "text/x-python",
   "name": "python",
   "nbconvert_exporter": "python",
   "pygments_lexer": "ipython2",
   "version": "2.7.6"
  }
 },
 "nbformat": 4,
 "nbformat_minor": 0
}