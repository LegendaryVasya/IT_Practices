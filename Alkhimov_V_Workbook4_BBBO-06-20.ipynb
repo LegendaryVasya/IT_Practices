{
 "cells": [
  {
   "cell_type": "markdown",
   "metadata": {
    "collapsed": true,
    "pycharm": {
     "name": "#%% md\n"
    }
   },
   "source": [
    "# Рабочая тетрадь №4. Основы Phyton. Библиотеки\n",
    "###  Алхимов Василий Юрьевич"
   ]
  },
  {
   "cell_type": "markdown",
   "source": [
    "Регрессия – это зависимость среднего значения какой-либо величины от некоторой другой величины или от нескольких других величин. В отличие от чисто функциональной зависимости y=f(x), когда каждому значению независимой переменной x соответствует одно определённое значение зависимой переменной у, при регрессионной связи одному и тому же значению независимой переменной (фактору) x могут соответствовать в зависимости от конкретного случая различные значения зависимой переменной (отклика) у.\n",
    "Изучение регрессии основано на том, что случайные величины Х и Y связаны между собой вероятностной зависимостью: при каждом конкретном значении X=x величина Y является случайной величиной с вполне определённым распределением вероятностей. Зависимость зависимой переменной – отклика от одной независимой переменной – фактора или нескольких факторов называется уравнением регрессии. По количеству факторов выделяют парную (однофакторную) и множественную (многофакторную) регрессию. Для парной будем рассматривать следующие методы регрессии: линейную, показательную, экспоненциальную, гиперболическую и параболическую.\n",
    "Регрессионный анализ – это раздел математической статистики, изучающий регрессионную зависимость между случайными величинами по статистическим данным. Цель регрессионного анализа состоит в определении общего вида уравнения регрессии, вычислении оценок неизвестных параметров, входящих в уравнение регрессии проверке статистических гипотез о регрессионной связи.\n",
    "Таким образом, регрессионный анализ – набор статистических методов исследования влияния одной или нескольких независимых переменных X_1,…,X_n на зависимую переменную Y. Независимые переменные иначе называют регрессорами или предикторами, а зависимые переменные – критериальными переменными."
   ],
   "metadata": {
    "collapsed": false,
    "pycharm": {
     "name": "#%% md\n"
    }
   }
  },
  {
   "cell_type": "markdown",
   "source": [
    "### 1.1. Теоретический материал – Линейные регрессионные модели\n",
    "[Корреляция и регрессия](https://biconsult.ru/services/korrelyaciya-i-regressiya)\n",
    "\n",
    "Линейная регрессия (Linear regression) – модель зависимости переменной x от одной или нескольких других переменных (факторов, регрессоров, независимых переменных) с линейной функцией зависимости. Линейная регрессия относится к задаче определения «линии наилучшего соответствия» через набор точек данных и стала простым предшественником нелинейных методов, которые используют для обучения нейронных сетей.\n",
    "\n",
    "Цель линейной регрессии — поиск линии, которая наилучшим образом соответствует этим точкам. Напомним, что общее уравнение для прямой есть f (x) = b +m⋅x, где m – наклон линии, а b – его сдвиг.\n",
    "\n",
    "#### Функция потерь — метод наименьших квадратов\n",
    "\n",
    "Функция потерь – это мера количества ошибок, которые наша линейная регрессия делает на наборе данных. Хотя есть разные функции потерь, все они вычисляют расстояние между предсказанным значением y(х) и его фактическим значением.\n",
    "\n",
    "Одна очень распространенная функция потерь называется средней квадратичной ошибкой MSE. Чтобы вычислить MSE, мы просто берем все значения ошибок, считаем их квадраты длин и усредняем.\n",
    "Задача экраполяции\n",
    "Допустим у нас есть много экспериментальных точек. Необходимо через них провести кривую, которая как можно ближе проходила к этим точкам. При этом необходимо минимизировать среднюю квадратичную ошибку (MSE).\n",
    "Для решения данной задачи в Python есть множество библиотек. Самыми распостраненными выступают:\n",
    "\n",
    "#### numpy - numpy.linalg.lstsq\n",
    "***scipy - scipy.linalg*** (содержит все функции из numpy.linalg плюс часть новых функций, которых нет в numpy.linalg).\n",
    "\n",
    "### 1.1.1 Пример\n",
    "\n",
    "Задача:\n",
    "\n",
    "Проведем прямую y = mx + b  через экспериментальные точки."
   ],
   "metadata": {
    "collapsed": false,
    "pycharm": {
     "name": "#%% md\n"
    }
   }
  },
  {
   "cell_type": "code",
   "execution_count": 5,
   "outputs": [
    {
     "data": {
      "text/plain": "array([[0., 1.],\n       [1., 1.],\n       [2., 1.],\n       [3., 1.]])"
     },
     "execution_count": 5,
     "metadata": {},
     "output_type": "execute_result"
    }
   ],
   "source": [
    "import numpy as np\n",
    "x = np.array([0,1,2,3])\n",
    "y = np.array([-1,0.2,0.9,2.1])\n",
    "\n",
    "#Перепишите линейное уравнение y = mx + c как y = Ap, где A = [[x1]] и p = [[m],[c]]\n",
    "# Построим A по x:\n",
    "A = np.vstack([x,np.ones(len(x))]).T# Транспонированный массив(заменас строк на столбцы).\n",
    "\n",
    "# Возвращает новый массив заданной формы и типа, заполненный единицами.\n",
    "A"
   ],
   "metadata": {
    "collapsed": false,
    "pycharm": {
     "name": "#%%\n"
    }
   }
  },
  {
   "cell_type": "code",
   "execution_count": 2,
   "outputs": [
    {
     "name": "stdout",
     "output_type": "stream",
     "text": [
      "0.9999999999999999 -0.9499999999999997\n"
     ]
    }
   ],
   "source": [
    "#Используя метод lstsq для решения его относительно вектора p.\n",
    "m,c = np.linalg.lstsq(A,y,rcond = None)[0]\n",
    "print(m,c)"
   ],
   "metadata": {
    "collapsed": false,
    "pycharm": {
     "name": "#%%\n"
    }
   }
  },
  {
   "cell_type": "code",
   "execution_count": 3,
   "outputs": [
    {
     "data": {
      "text/plain": "<Figure size 432x288 with 1 Axes>",
      "image/png": "[encoded data removed]"
     },
     "metadata": {
      "needs_background": "light"
     },
     "output_type": "display_data"
    }
   ],
   "source": [
    "#Построить график полученной прямой и укажем на нем точки.\n",
    "import matplotlib.pyplot as plt\n",
    "plt.plot(x,y,'o',label='Исходные данные',markersize=10)\n",
    "plt.plot(x, m*x + c, 'r', label='Линейная экстрополяция')\n",
    "plt.legend()\n",
    "plt.show()"
   ],
   "metadata": {
    "collapsed": false,
    "pycharm": {
     "name": "#%%\n"
    }
   }
  },
  {
   "cell_type": "markdown",
   "source": [
    "### 1.1.2 Пример\n",
    "Задача:\n",
    "Пусть x,y – вектора длиной n > 3 (точек > 3). Задача заключается в построении эстраполяционного полинома второго порядка (параболы). Таким образом, необходимо найти такие коэффициенты поринома a,b,c по методу наименьших квадратов. Данные мтогут быть получены в результате измерений. Покажем пример генерации данных случайным образом и загрузки их из файла."
   ],
   "metadata": {
    "collapsed": false,
    "pycharm": {
     "name": "#%% md\n"
    }
   }
  },
  {
   "cell_type": "code",
   "execution_count": 11,
   "outputs": [
    {
     "name": "stdout",
     "output_type": "stream",
     "text": [
      "[-4.98279574 -3.53033491 -3.3586374  -2.36311043 -0.77397684 -0.24435112\n",
      "  0.55497978  1.9754518   2.90909769  3.76760864  4.78816276]\n",
      "[-4.98279574 -3.53033491 -3.3586374  -2.36311043 -0.77397684 -0.24435112\n",
      "  0.55497978  1.9754518   2.90909769  3.76760864  4.78816276]\n"
     ]
    }
   ],
   "source": [
    "from numpy import *\n",
    "from numpy.random import *\n",
    "#генерируем случайные x и y\n",
    "delta = 1.0\n",
    "x = linspace(-5,5,11)\n",
    "#numpy.linspace(start, stop, num=50, endpoint=True, retstep=False, dtype=None, axis=0)\n",
    "#Return evenly spaced numbers over a specified interval.\n",
    "y = x**2+delta*(rand(11)-0.5)\n",
    "x += delta*(rand(11)-0.5)\n",
    "#заисываем данные в файл\n",
    "x.tofile('x_data.txt', '\\n')\n",
    "y.tofile('y_data.txt', '\\n')\n",
    "\n",
    "#читаем данные из файлов\n",
    "x = fromfile('x_data.txt', float, sep = '\\n')\n",
    "y = fromfile('x_data.txt', float, sep = '\\n')\n",
    "\n",
    "print(x)\n",
    "print(y)"
   ],
   "metadata": {
    "collapsed": false,
    "pycharm": {
     "name": "#%%\n"
    }
   }
  },
  {
   "cell_type": "code",
   "execution_count": 19,
   "outputs": [
    {
     "data": {
      "text/plain": "<Figure size 432x288 with 1 Axes>",
      "image/png": "[encoded data removed]"
     },
     "metadata": {
      "needs_background": "light"
     },
     "output_type": "display_data"
    }
   ],
   "source": [
    "from numpy import *\n",
    "from numpy.random import *\n",
    "#генерируем случайные x и y\n",
    "delta = 1.0\n",
    "x = linspace(-5,5,11)\n",
    "#numpy.linspace(start, stop, num=50, endpoint=True, retstep=False, dtype=None, axis=0)\n",
    "#Return evenly spaced numbers over a specified interval.\n",
    "y = x**2+delta*(rand(11)-0.5)\n",
    "x += delta*(rand(11)-0.5)\n",
    "#Нахождение коэффициентов функции вида y = ax^2 + bx + c методом наименьших квадратов\n",
    "#задаем вектор m = [x**2, x, E]\n",
    "m = vstack((x**2, x,ones(11))).T\n",
    "#Находим коффициенты при составляющих вектора m\n",
    "s = np.linalg.lstsq(m,y,rcond = None)[0]\n",
    "\n",
    "# на отрезке [-5,5]\n",
    "x_prec = linspace(-5,5,101)\n",
    "#рисуем точки\n",
    "plt.plot(x,y,'D')\n",
    "#рисуем кривую вида y = ax^2 + bx + c, подставляя из решения коэффициенты s[0],s[1],s[2]\n",
    "plt.plot(x_prec,s[0] * x_prec**2 + s[1] * x_prec+s[2],'-',lw = 2)\n",
    "plt.grid()\n",
    "plt.savefig('парабола.png')"
   ],
   "metadata": {
    "collapsed": false,
    "pycharm": {
     "name": "#%%\n"
    }
   }
  },
  {
   "cell_type": "markdown",
   "source": [
    "### 1.1.3 Пример\n",
    "Задача:\n",
    "\n",
    "По данным предыдущего примера постройте эстраполяционного полинома третьего порядка\n",
    "\n",
    "Решение:"
   ],
   "metadata": {
    "collapsed": false,
    "pycharm": {
     "name": "#%% md\n"
    }
   }
  },
  {
   "cell_type": "code",
   "execution_count": 18,
   "outputs": [
    {
     "data": {
      "text/plain": "<Figure size 432x288 with 1 Axes>",
      "image/png": "[encoded data removed]"
     },
     "metadata": {
      "needs_background": "light"
     },
     "output_type": "display_data"
    }
   ],
   "source": [
    "from numpy import *\n",
    "from numpy.random import *\n",
    "#генерируем случайные x и y\n",
    "delta = 1.0\n",
    "x = linspace(-5,5,11)\n",
    "#numpy.linspace(start, stop, num=50, endpoint=True, retstep=False, dtype=None, axis=0)\n",
    "#Return evenly spaced numbers over a specified interval.\n",
    "y = x**2+delta*(rand(11)-0.5)\n",
    "x += delta*(rand(11)-0.5)\n",
    "# Нахождение коэффициентов функции вида y = ax^3 + bx^2 + cx + d методом наименьших квадратов\n",
    "# задаем вектор m = [x**3, x, E]\n",
    "m = vstack((x**3, x**2, x, ones(11))).T\n",
    "#Находим коэффициенты при составляющих вектора m\n",
    "s = np.linalg.lstsq(m,y,rcond = None)[0]\n",
    "\n",
    "# от отрезке [-5,5]\n",
    "x_prec = linspace(-5,5,101)\n",
    "# рисуем точки\n",
    "plt.plot(x,y,'D')\n",
    "# рисуем кривую вида y = ax^3 + bx^2 +cx +d, подставляя из решения коэффициенты s[0],s[1],s[2],s[3]\n",
    "plt.plot(x_prec,s[0] * x_prec**3 + s[1] * x_prec**2 + s[2]* x_prec + s[3],'-',lw = 3)\n",
    "plt.grid()\n",
    "plt.savefig('полином 3-й степени.png')"
   ],
   "metadata": {
    "collapsed": false,
    "pycharm": {
     "name": "#%%\n"
    }
   }
  },
  {
   "cell_type": "markdown",
   "source": [
    "Задание:\n",
    "\n",
    "Представьте собственные данные и постройте эктраполяцию полиномами первой, второй и третьей степени.\n",
    "\n",
    "Решение:"
   ],
   "metadata": {
    "collapsed": false,
    "pycharm": {
     "name": "#%% md\n"
    }
   }
  },
  {
   "cell_type": "code",
   "execution_count": 20,
   "outputs": [
    {
     "name": "stdout",
     "output_type": "stream",
     "text": [
      "0.5825771324863886 -6.297640653357531\n"
     ]
    },
    {
     "data": {
      "text/plain": "<Figure size 432x288 with 1 Axes>",
      "image/png": "[encoded data removed]"
     },
     "metadata": {
      "needs_background": "light"
     },
     "output_type": "display_data"
    },
    {
     "data": {
      "text/plain": "<Figure size 432x288 with 1 Axes>",
      "image/png": "[encoded data removed]"
     },
     "metadata": {
      "needs_background": "light"
     },
     "output_type": "display_data"
    },
    {
     "data": {
      "text/plain": "<Figure size 432x288 with 1 Axes>",
      "image/png": "[encoded data removed]"
     },
     "metadata": {
      "needs_background": "light"
     },
     "output_type": "display_data"
    }
   ],
   "source": [
    "import numpy as np\n",
    "import matplotlib.pyplot as plt\n",
    "x = np.array([4,9,5,10,7,8,1,3])\n",
    "y = np.array([0,4,-5,-8,-9,8,-6,-7])\n",
    "\n",
    "A = np.vstack([x, np.ones(len(x))]).T\n",
    "\n",
    "m, c = np.linalg.lstsq(A, y, rcond = None)[0]\n",
    "print(m, c)\n",
    "\n",
    "plt.plot(x, y, 'o', label = 'Исходные данные', markersize = 10)\n",
    "plt.plot(x, m*x + c, 'r', label = 'Линейная экстраполяция')\n",
    "plt.legend()\n",
    "plt.show()\n",
    "\n",
    "\n",
    "m = np.vstack((x ** 2, x, np.ones(8))).T\n",
    "s = np.linalg.lstsq(m, y, rcond = None)[0]\n",
    "\n",
    "x_prec = np.linspace(1, 9, 10)\n",
    "plt.plot(x, y, 'D')\n",
    "plt.plot(x_prec, s[0] * x_prec ** 2 + s[1] * x_prec + s[2], '-', lw = 2)\n",
    "plt.grid()\n",
    "plt.show()\n",
    "\n",
    "m = np.vstack((x ** 3, x ** 2, x, np.ones(8))).T\n",
    "s = np.linalg.lstsq(m, y, rcond = None)[0]\n",
    "\n",
    "x_prec = np.linspace(1, 9, 10)\n",
    "plt.plot(x, y, 'D')\n",
    "plt.plot(x_prec, s[0] * x_prec ** 3 + s[1] * x_prec ** 2 + s[2] * x_prec + s[3], '-', lw = 3)\n",
    "plt.grid()\n",
    "plt.show()\n"
   ],
   "metadata": {
    "collapsed": false,
    "pycharm": {
     "name": "#%%\n"
    }
   }
  },
  {
   "cell_type": "markdown",
   "source": [
    "### 1.1.4 Пример\n",
    "Задача:\n",
    "\n",
    "Необходимо проверить гипотезу, что наши точечно заданная функция ложится на кривую вида f(x,b) = b0 + b1exp(-b2x^2)\n",
    "\n",
    "Решение"
   ],
   "metadata": {
    "collapsed": false,
    "pycharm": {
     "name": "#%% md\n"
    }
   }
  },
  {
   "cell_type": "code",
   "execution_count": 16,
   "outputs": [
    {
     "name": "stdout",
     "output_type": "stream",
     "text": [
      "[0.         0.10204082 0.20408163 0.30612245 0.40816327 0.51020408\n",
      " 0.6122449  0.71428571 0.81632653 0.91836735 1.02040816 1.12244898\n",
      " 1.2244898  1.32653061 1.42857143 1.53061224 1.63265306 1.73469388\n",
      " 1.83673469 1.93877551 2.04081633 2.14285714 2.24489796 2.34693878\n",
      " 2.44897959 2.55102041 2.65306122 2.75510204 2.85714286 2.95918367\n",
      " 3.06122449 3.16326531 3.26530612 3.36734694 3.46938776 3.57142857\n",
      " 3.67346939 3.7755102  3.87755102 3.97959184 4.08163265 4.18367347\n",
      " 4.28571429 4.3877551  4.48979592 4.59183673 4.69387755 4.79591837\n",
      " 4.89795918 5.        ]\n",
      "[1.03325945 1.03303998 1.02937687 0.99082172 0.98498746 0.9260308\n",
      " 0.87219141 0.87219466 0.80256161 0.78738459 0.7150428  0.65772841\n",
      " 0.61839164 0.59240301 0.55991523 0.49934638 0.45092401 0.46156886\n",
      " 0.39860565 0.38841963 0.37981225 0.35652418 0.33388152 0.32548514\n",
      " 0.32883805 0.28531631 0.32023439 0.27567241 0.29346894 0.26055115\n",
      " 0.28849773 0.26132993 0.27981796 0.27262185 0.28270501 0.30121932\n",
      " 0.26916489 0.27707784 0.26570606 0.25965736 0.28586668 0.26154256\n",
      " 0.2850377  0.29315567 0.27918928 0.28335198 0.26677854 0.28499586\n",
      " 0.26317716 0.25216401]\n"
     ]
    },
    {
     "data": {
      "text/plain": "array([0.27483874, 0.75673927, 0.50738625])"
     },
     "execution_count": 16,
     "metadata": {},
     "output_type": "execute_result"
    }
   ],
   "source": [
    "#Добавим шума в данные, сделанные по функции f(x,b) с коэффициентами b = (0.25, 0.75, 0.5)\n",
    "import numpy as np\n",
    "beta = (0.25, 0.75, 0.5)\n",
    "def f(x, b0, b1, b2):\n",
    "    return b0 + b1 * np.exp(-b2 * x**2)\n",
    "#зададим массив точек xi\n",
    "xdata = np.linspace(0, 5, 50)\n",
    "# создаем теоретически правильные значения точек yi (без шума)\n",
    "y = f(xdata, *beta)\n",
    "#зашумляем эти данные\n",
    "ydata = y + 0.05 * np.random.rand(len(xdata))\n",
    "# Используем функцию для получения решения в виде коэффициентов функции f(x) для указанных xdata и ydata\n",
    "import scipy.optimize as sp\n",
    "beta_opt, beta_cov = sp.curve_fit(f, xdata, ydata)\n",
    "print(xdata)\n",
    "print(ydata)\n",
    "beta_opt"
   ],
   "metadata": {
    "collapsed": false,
    "pycharm": {
     "name": "#%%\n"
    }
   }
  },
  {
   "cell_type": "code",
   "execution_count": 19,
   "outputs": [
    {
     "name": "stdout",
     "output_type": "stream",
     "text": [
      "1.7933540792978967e-05\n",
      "0.009303622498177162\n"
     ]
    }
   ],
   "source": [
    "#Вычислим линейное отклонение\n",
    "lin_dev = sum(beta_cov[0])\n",
    "print(lin_dev)\n",
    "\n",
    "#Вычислим квадратичное отклонение\n",
    "residuals = ydata - f(xdata, *beta_opt)\n",
    "fres = sum(residuals**2)\n",
    "print(fres)"
   ],
   "metadata": {
    "collapsed": false,
    "pycharm": {
     "name": "#%%\n"
    }
   }
  },
  {
   "cell_type": "code",
   "execution_count": 25,
   "outputs": [
    {
     "data": {
      "text/plain": "<Figure size 432x288 with 1 Axes>",
      "image/png": "[encoded data removed]"
     },
     "metadata": {
      "needs_background": "light"
     },
     "output_type": "display_data"
    }
   ],
   "source": [
    "import matplotlib.pyplot as plt\n",
    "\n",
    "fig, ax = plt.subplots()\n",
    "ax.scatter(xdata, ydata)\n",
    "ax.plot(xdata, y,'r',lw =2)\n",
    "ax.plot(xdata, f(xdata, *beta_opt), 'b', lw = 2)\n",
    "ax.set_xlim(0,5)\n",
    "ax.set_xlabel(r\"$x$\", fontsize = 18)\n",
    "ax.set_ylabel(r\"$f(x, \\beta$\", fontsize = 18)\n",
    "plt.show()"
   ],
   "metadata": {
    "collapsed": false,
    "pycharm": {
     "name": "#%%\n"
    }
   }
  },
  {
   "cell_type": "markdown",
   "source": [
    "### 1.1.5 Пример\n",
    "Задача:\n",
    "Необходимо проверить гипотезу, что наши точечно заданная функция ложится на кривые вида:\n",
    "\n",
    "1) f(x,b) = b_0  + b_1 x\n",
    "\n",
    "2) f(x,b) = b_0  + b_1 x + b_2 x^2\n",
    "\n",
    "3) f(x,b) = b_0  + b_1 ln(x)\n",
    "\n",
    "4) f(x,b) = b_0   x^(b_1 )\n",
    "\n",
    "Решение:"
   ],
   "metadata": {
    "collapsed": false,
    "pycharm": {
     "name": "#%% md\n"
    }
   }
  },
  {
   "cell_type": "code",
   "execution_count": 4,
   "outputs": [
    {
     "name": "stdout",
     "output_type": "stream",
     "text": [
      "[0.25011203 0.74697813]\n",
      "0.00011054345826937028\n",
      "0.09720200679453139\n"
     ]
    },
    {
     "data": {
      "text/plain": "<Figure size 432x288 with 1 Axes>",
      "image/png": "[encoded data removed]"
     },
     "metadata": {
      "needs_background": "light"
     },
     "output_type": "display_data"
    }
   ],
   "source": [
    "#решение\n",
    "#1\n",
    "import matplotlib.pyplot as plt\n",
    "import numpy as np\n",
    "import scipy.optimize as sp\n",
    "#Добавим шума в данные, сделанные по функции f(x,b) с коэффициентами b = (0.25,0.75)\n",
    "beta = (0.25, 0.75)\n",
    "def f(x, b0, b1):\n",
    "    return b0 + b1 * x\n",
    "#зададим массив точек xi\n",
    "xdata = np.linspace(0, 5, 50)\n",
    "#создаем теоритически правильные значения точек yi (без шума)\n",
    "\n",
    "y = f(xdata, *beta)\n",
    "# зашумляем эти данные\n",
    "ydata = y + 0.05 * np.random.randn(len(xdata))\n",
    "beta_opt, beta_cov = sp.curve_fit(f, xdata, ydata)\n",
    "print(beta_opt)\n",
    "#Вычислим линенйое отклонение\n",
    "lin_dev = sum(beta_cov[0])\n",
    "print(lin_dev)\n",
    "\n",
    "#Вычислим квадратичное отклонение\n",
    "residuals = ydata - f(xdata, *beta_opt)\n",
    "fres = sum(residuals**2)\n",
    "print(fres)\n",
    "fig, ax = plt.subplots()\n",
    "ax.scatter(xdata, ydata)\n",
    "ax.plot(xdata, y, 'r', lw = 2)\n",
    "ax.plot(xdata, f(xdata, *beta_opt), 'b', lw=2)\n",
    "ax.set_xlim(0,5)\n",
    "ax.set_xlabel(r\"$x$\", fontsize = 18)\n",
    "ax.set_ylabel(r\"$f(x, \\beta)$\", fontsize=18)\n",
    "plt.show()"
   ],
   "metadata": {
    "collapsed": false,
    "pycharm": {
     "name": "#%%\n"
    }
   }
  },
  {
   "cell_type": "code",
   "execution_count": 4,
   "outputs": [
    {
     "name": "stdout",
     "output_type": "stream",
     "text": [
      "[0.25821683 0.74931081 0.4996024 ]\n",
      "Линейное отклонение:  0.00010809065057298709\n",
      "Квадратичное отклонение:  0.09013628914803366\n"
     ]
    },
    {
     "data": {
      "text/plain": "<Figure size 432x288 with 1 Axes>",
      "image/png": "[encoded data removed]"
     },
     "metadata": {
      "needs_background": "light"
     },
     "output_type": "display_data"
    }
   ],
   "source": [
    "import matplotlib.pyplot as plt\n",
    "import numpy as np\n",
    "import scipy.optimize as sp\n",
    "#решение 2\n",
    "#добавим шума в данные, сделанные по функции f(x, b) с коэффициентами b = (0.25, 0.75, 0.5)\n",
    "beta = (0.25, 0.75, 0.5)\n",
    "\n",
    "def f(x, b0, b1, b2):\n",
    "    return b0 + b1 * x + b2 * x * x\n",
    "#зададим массив точек xi\n",
    "xdata = np.linspace(0, 5, 50)\n",
    "#создадим теоретически правильные значения точек yi (без шума)\n",
    "y = f(xdata, *beta)\n",
    "#зашумляем эти данные\n",
    "ydata = y + 0.05 * np.random.randn(len(xdata))\n",
    "beta_opt, beta_cov = sp.curve_fit(f, xdata, ydata)\n",
    "print(beta_opt)\n",
    "#вычислим линейное отклонение\n",
    "lin_dev = sum(beta_cov[0])\n",
    "print(\"Линейное отклонение: \", lin_dev)\n",
    "\n",
    "#вычислим квадратичное отклонение\n",
    "residuals = ydata - f(xdata, *beta_opt)\n",
    "fres = sum(residuals ** 2)\n",
    "print(\"Квадратичное отклонение: \", fres)\n",
    "\n",
    "fig, ax = plt.subplots()\n",
    "ax.scatter(xdata, ydata)\n",
    "ax.plot(xdata, y, 'r', lw = 2)\n",
    "ax.plot(xdata, f(xdata, *beta_opt), 'b', lw = 2)\n",
    "ax.set_xlim(0, 5)\n",
    "ax.set_xlabel(r\"$x$\", fontsize = 18)\n",
    "ax.set_ylabel(r\"$f(x, \\beta)$\", fontsize = 18)\n",
    "plt.show()"
   ],
   "metadata": {
    "collapsed": false,
    "pycharm": {
     "name": "#%%\n"
    }
   }
  },
  {
   "cell_type": "code",
   "execution_count": 7,
   "outputs": [
    {
     "name": "stdout",
     "output_type": "stream",
     "text": [
      "[1.00479238 1.99225734]\n",
      "Линейное отклонение:  6.704057312508286e-05\n",
      "Квадратичное отклонение:  0.1550273903379614\n"
     ]
    },
    {
     "data": {
      "text/plain": "<Figure size 432x288 with 1 Axes>",
      "image/png": "[encoded data removed]"
     },
     "metadata": {
      "needs_background": "light"
     },
     "output_type": "display_data"
    }
   ],
   "source": [
    "#решение 3\n",
    "import matplotlib.pyplot as plt\n",
    "import numpy as np\n",
    "import scipy.optimize as sp\n",
    "#добавим шума в данные, сделанные по функции f(x, b) с коэффициентами b = (1, 2)\n",
    "beta = (1, 2)\n",
    "\n",
    "def f(x, b0, b1):\n",
    "    return b0 + b1 * np.log(x)\n",
    "\n",
    "#зададим массив точек xi\n",
    "xdata = np.linspace(1, 5, 50)\n",
    "\n",
    "#создадим теоретически правильные значения точек yi (без шума)\n",
    "y = f(xdata, *beta)\n",
    "\n",
    "#зашумляем эти данные\n",
    "ydata = y + 0.05 * np.random.randn(len(xdata))\n",
    "beta_opt, beta_cov = sp.curve_fit(f, xdata, ydata)\n",
    "print(beta_opt)\n",
    "\n",
    "#вычислим линейное отклонение\n",
    "lin_dev = sum(beta_cov[0])\n",
    "print(\"Линейное отклонение: \", lin_dev)\n",
    "\n",
    "#вычислим квадратичное отклонение\n",
    "residuals = ydata - f(xdata, *beta_opt)\n",
    "fres = sum(residuals ** 2)\n",
    "print(\"Квадратичное отклонение: \", fres)\n",
    "\n",
    "fig, ax = plt.subplots()\n",
    "ax.scatter(xdata, ydata)\n",
    "ax.plot(xdata, y, 'r', lw = 2)\n",
    "ax.plot(xdata, f(xdata, *beta_opt), 'b', lw = 2)\n",
    "ax.set_xlim(0, 5)\n",
    "ax.set_xlabel(r\"$x$\", fontsize = 18)\n",
    "ax.set_ylabel(r\"$f(x, \\beta)$\", fontsize = 18)\n",
    "plt.show()"
   ],
   "metadata": {
    "collapsed": false,
    "pycharm": {
     "name": "#%%\n"
    }
   }
  },
  {
   "cell_type": "code",
   "execution_count": 8,
   "outputs": [
    {
     "name": "stdout",
     "output_type": "stream",
     "text": [
      "[1.00693037 1.99486861]\n",
      "Линейное отклонение:  3.2852400704392393e-06\n",
      "Квадратичное отклонение:  0.0762295644580591\n"
     ]
    },
    {
     "data": {
      "text/plain": "<Figure size 432x288 with 1 Axes>",
      "image/png": "[encoded data removed]"
     },
     "metadata": {
      "needs_background": "light"
     },
     "output_type": "display_data"
    }
   ],
   "source": [
    "#решение 4\n",
    "from scipy.optimize import curve_fit\n",
    "\n",
    "#добавим шума в данные, сделанные по функции f(x, b) с коэффициентами b = (1, 2)\n",
    "beta = (1, 2)\n",
    "\n",
    "def f(x, b0, b1):\n",
    "    return b0 * x ** b1\n",
    "\n",
    "#зададим массив точек xi\n",
    "xdata = np.linspace(1, 5, 50)\n",
    "\n",
    "#создадим теоретически правильные значения точек yi (без шума)\n",
    "y = f(xdata, *beta)\n",
    "\n",
    "#зашумляем эти данные\n",
    "ydata = y + 0.05 * np.random.randn(len(xdata))\n",
    "beta_opt, beta_cov = curve_fit(f, xdata, ydata)\n",
    "print(beta_opt)\n",
    "\n",
    "#вычислим линейное отклонение\n",
    "lin_dev = sum(beta_cov[0])\n",
    "print(\"Линейное отклонение: \", lin_dev)\n",
    "\n",
    "#вычислим квадратичное отклонение\n",
    "residuals = ydata - f(xdata, *beta_opt)\n",
    "fres = sum(residuals ** 2)\n",
    "print(\"Квадратичное отклонение: \", fres)\n",
    "\n",
    "fig, ax = plt.subplots()\n",
    "ax.scatter(xdata, ydata)\n",
    "ax.plot(xdata, y, 'r', lw = 2)\n",
    "ax.plot(xdata, f(xdata, *beta_opt), 'b', lw = 2)\n",
    "ax.set_xlim(0, 5)\n",
    "ax.set_xlabel(r\"$x$\", fontsize = 18)\n",
    "ax.set_ylabel(r\"$f(x, \\beta)$\", fontsize = 18)\n",
    "plt.show()"
   ],
   "metadata": {
    "collapsed": false,
    "pycharm": {
     "name": "#%%\n"
    }
   }
  },
  {
   "cell_type": "markdown",
   "source": [
    "### Задание:\n",
    "Подставьте собственные данные и поэкспериментируйте с представленными функциями. Проанализируйте динамику изменения данных."
   ],
   "metadata": {
    "collapsed": false,
    "pycharm": {
     "name": "#%% md\n"
    }
   }
  },
  {
   "cell_type": "code",
   "execution_count": 19,
   "outputs": [
    {
     "name": "stdout",
     "output_type": "stream",
     "text": [
      "Линейное отклонение:  3.453495167955334e-07\n",
      "Квадратичное отклонение:  2.3610316964088645\n"
     ]
    },
    {
     "data": {
      "text/plain": "<Figure size 432x288 with 1 Axes>",
      "image/png": "[encoded data removed]"
     },
     "metadata": {
      "needs_background": "light"
     },
     "output_type": "display_data"
    }
   ],
   "source": [
    "from scipy.optimize import curve_fit\n",
    "\n",
    "beta = (0.9, 0.8)\n",
    "\n",
    "def f(x, b0, b1):\n",
    "    return b0 * x ** b1\n",
    "\n",
    "xdata = np.linspace(1, 100, 1000)\n",
    "\n",
    "y = f(xdata, *beta)\n",
    "\n",
    "ydata = y + 0.05 * np.random.randn(len(xdata))\n",
    "beta_opt, beta_cov = curve_fit(f, xdata, ydata)\n",
    "\n",
    "lin_dev = sum(beta_cov[0])\n",
    "print(\"Линейное отклонение: \", lin_dev)\n",
    "\n",
    "residuals = ydata - f(xdata, *beta_opt)\n",
    "fres = sum(residuals ** 2)\n",
    "print(\"Квадратичное отклонение: \", fres)\n",
    "\n",
    "fig, ax = plt.subplots()\n",
    "ax.scatter(xdata, ydata)\n",
    "ax.plot(xdata, y, 'r', lw = 2)\n",
    "ax.plot(xdata, f(xdata, *beta_opt), 'b', lw = 2)\n",
    "ax.set_xlim(0, 100)\n",
    "ax.set_xlabel(r\"$x$\", fontsize = 18)\n",
    "ax.set_ylabel(r\"$f(x, \\beta)$\", fontsize = 18)\n",
    "plt.show()"
   ],
   "metadata": {
    "collapsed": false,
    "pycharm": {
     "name": "#%%\n"
    }
   }
  },
  {
   "cell_type": "markdown",
   "source": [
    "## Задачи регрессии\n",
    "<p><strong>Линейная регрессия</strong> - это широко используемый метод\n",
    "статистического анализа, который использует регрессионный анализ в математической\n",
    "статистике для определения количественной взаимосвязи между двумя или более\n",
    "переменными. Если регрессионный анализ включает две или более независимых\n",
    "переменных, а связь между зависимой и независимой переменными является линейной, тогда имееи дело с множественной линейной регрессией.\n",
    "В этом разделе мы увидим, как библиотеку Scikit-Learn в Python для машинного обучения можно использовать для реализации функций регрессии. Мы начнем с простой линейной регрессии с участием двух переменных, а затем перейдем к линейной регрессии с участием нескольких переменных.\n",
    "\n",
    "### 1.2.1 Пример\n",
    "\n",
    "Задача:\n",
    "\n",
    "Построим простую линейную регрессию в Python с использованием библиотеки scikit-learn"
   ],
   "metadata": {
    "collapsed": false,
    "pycharm": {
     "name": "#%% md\n"
    }
   }
  },
  {
   "cell_type": "code",
   "execution_count": 17,
   "outputs": [
    {
     "data": {
      "text/plain": "   Учебное время  Оценка\n0           0.50      10\n1           0.75      22\n2           1.00      13\n3           1.25      43\n4           1.50      20",
      "text/html": "<div>\n<style scoped>\n    .dataframe tbody tr th:only-of-type {\n        vertical-align: middle;\n    }\n\n    .dataframe tbody tr th {\n        vertical-align: top;\n    }\n\n    .dataframe thead th {\n        text-align: right;\n    }\n</style>\n<table border=\"1\" class=\"dataframe\">\n  <thead>\n    <tr style=\"text-align: right;\">\n      <th></th>\n      <th>Учебное время</th>\n      <th>Оценка</th>\n    </tr>\n  </thead>\n  <tbody>\n    <tr>\n      <th>0</th>\n      <td>0.50</td>\n      <td>10</td>\n    </tr>\n    <tr>\n      <th>1</th>\n      <td>0.75</td>\n      <td>22</td>\n    </tr>\n    <tr>\n      <th>2</th>\n      <td>1.00</td>\n      <td>13</td>\n    </tr>\n    <tr>\n      <th>3</th>\n      <td>1.25</td>\n      <td>43</td>\n    </tr>\n    <tr>\n      <th>4</th>\n      <td>1.50</td>\n      <td>20</td>\n    </tr>\n  </tbody>\n</table>\n</div>"
     },
     "metadata": {},
     "output_type": "display_data"
    },
    {
     "name": "stdout",
     "output_type": "stream",
     "text": [
      "(20, 2)\n"
     ]
    },
    {
     "data": {
      "text/plain": "       Учебное время     Оценка\ncount      20.000000  20.000000\nmean        2.887500  53.700000\nstd         1.501041  26.435821\nmin         0.500000  10.000000\n25%         1.687500  30.250000\n50%         2.875000  58.500000\n75%         4.062500  75.250000\nmax         5.500000  93.000000",
      "text/html": "<div>\n<style scoped>\n    .dataframe tbody tr th:only-of-type {\n        vertical-align: middle;\n    }\n\n    .dataframe tbody tr th {\n        vertical-align: top;\n    }\n\n    .dataframe thead th {\n        text-align: right;\n    }\n</style>\n<table border=\"1\" class=\"dataframe\">\n  <thead>\n    <tr style=\"text-align: right;\">\n      <th></th>\n      <th>Учебное время</th>\n      <th>Оценка</th>\n    </tr>\n  </thead>\n  <tbody>\n    <tr>\n      <th>count</th>\n      <td>20.000000</td>\n      <td>20.000000</td>\n    </tr>\n    <tr>\n      <th>mean</th>\n      <td>2.887500</td>\n      <td>53.700000</td>\n    </tr>\n    <tr>\n      <th>std</th>\n      <td>1.501041</td>\n      <td>26.435821</td>\n    </tr>\n    <tr>\n      <th>min</th>\n      <td>0.500000</td>\n      <td>10.000000</td>\n    </tr>\n    <tr>\n      <th>25%</th>\n      <td>1.687500</td>\n      <td>30.250000</td>\n    </tr>\n    <tr>\n      <th>50%</th>\n      <td>2.875000</td>\n      <td>58.500000</td>\n    </tr>\n    <tr>\n      <th>75%</th>\n      <td>4.062500</td>\n      <td>75.250000</td>\n    </tr>\n    <tr>\n      <th>max</th>\n      <td>5.500000</td>\n      <td>93.000000</td>\n    </tr>\n  </tbody>\n</table>\n</div>"
     },
     "metadata": {},
     "output_type": "display_data"
    },
    {
     "data": {
      "text/plain": "<Figure size 432x288 with 1 Axes>",
      "image/png": "[encoded data removed]"
     },
     "metadata": {
      "needs_background": "light"
     },
     "output_type": "display_data"
    }
   ],
   "source": [
    "import pandas as pd\n",
    "import numpy as np\n",
    "import matplotlib.pyplot as plt\n",
    "from pandas import DataFrame, Series\n",
    "from sklearn.model_selection import train_test_split\n",
    "from sklearn.linear_model import LinearRegression\n",
    "\n",
    "#создадим набор данных для описания взаимосвязи между временем обучения студентов и успеваемостью\n",
    "my_dict = {\"Учебное время\": [0.50, 0.75, 1.00, 1.25, 1.50, 1.75, 2.00, 2.25, 2.50, 2.75, 3.00, 3.25, 3.50,\n",
    "                             3.75, 4.00, 4.25, 4.50, 4.75, 5.00, 5.50],\n",
    "          \"Оценка\": [10, 22, 13, 43, 20, 22, 33, 50, 62, 48, 55, 75, 62, 73, 81, 76, 64, 82, 90, 93]}\n",
    "\n",
    "dataset = pd.DataFrame(my_dict)\n",
    "display(dataset.head())\n",
    "\n",
    "#исследуем набор данных\n",
    "print(dataset.shape)\n",
    "display(dataset.describe())\n",
    "\n",
    "#нарисуем точечную диаграмму\n",
    "plt.scatter(dataset[\"Учебное время\"], dataset[\"Оценка\"], color = 'b', label = \"Данные экзамена\")\n",
    "plt.xlabel(\"Часы\")\n",
    "plt.ylabel(\"Оценка\")\n",
    "plt.show()"
   ],
   "metadata": {
    "collapsed": false,
    "pycharm": {
     "name": "#%%\n"
    }
   }
  },
  {
   "cell_type": "markdown",
   "source": [
    "После того как мы получили представление о данных, разделим информацию на «атрибуты» и «метки». Атрибуты – это независимые переменные, а метки – это зависимые переменные, значения которых должны быть предсказаны. В нашем наборе всего два столбца и необходимо предсказать оценку в зависимости от количества часов. Чтобы извлечь атрибуты и метки, выполните следующий скрипт:"
   ],
   "metadata": {
    "collapsed": false
   }
  },
  {
   "cell_type": "code",
   "execution_count": 15,
   "outputs": [
    {
     "name": "stdout",
     "output_type": "stream",
     "text": [
      "[[0.5 ]\n",
      " [0.75]\n",
      " [1.  ]\n",
      " [1.25]\n",
      " [1.5 ]\n",
      " [1.75]\n",
      " [2.  ]\n",
      " [2.25]\n",
      " [2.5 ]\n",
      " [2.75]\n",
      " [3.  ]\n",
      " [3.25]\n",
      " [3.5 ]\n",
      " [3.75]\n",
      " [4.  ]\n",
      " [4.25]\n",
      " [4.5 ]\n",
      " [4.75]\n",
      " [5.  ]\n",
      " [5.5 ]]\n",
      "[10 22 13 43 20 22 33 50 62 48 55 75 62 73 81 76 64 82 90 93]\n",
      "\n",
      " Linear Regression\n",
      "3.168632075471699\n",
      "[17.18867925]\n"
     ]
    }
   ],
   "source": [
    "X = dataset.iloc[:, :-1].values\n",
    "y = dataset.iloc[:, 1].values\n",
    "print(X)\n",
    "print(y)\n",
    "\n",
    "#теперь, когда у нас есть атрибуты и метки, необходимо разделить их наобучающий и тестовый набор\n",
    "#приведенный фрагмент разделяет 80% данных на обучающий набор, а 20% - на набор тестов\n",
    "X_train, X_test, y_train, y_test = train_test_split(X, y, test_size = 0.2, random_state = 0)\n",
    "\n",
    "#далее можно обучить алгоритм линейной регрессии\n",
    "#необходимо импортировать класс LinearRegression, создать его экземпляр и вызвать метод fit()\n",
    "regressor = LinearRegression()\n",
    "regressor.fit(X_train, y_train)\n",
    "\n",
    "#приведем получившиеся коэффициенты для линии регрессии\n",
    "print(\"\\n Linear Regression\")\n",
    "print(regressor.intercept_)\n",
    "print(regressor.coef_)"
   ],
   "metadata": {
    "collapsed": false,
    "pycharm": {
     "name": "#%%\n"
    }
   }
  },
  {
   "cell_type": "markdown",
   "source": [
    "Получившийся результат можно интерпретировать следующим образом: с каждым затраченным часом на обучение результат экзамена повышается приблизительно на 17 баллов. Далее можно построить прогнозы. Для этого мы будем использовать наши тестовые данные и посмотрим, насколько точно наш алгоритм предсказывает процентную оценку. Чтобы сделать прогноз на тестовых данных необходимо выполнить следующий код:"
   ],
   "metadata": {
    "collapsed": false
   }
  },
  {
   "cell_type": "code",
   "execution_count": 14,
   "outputs": [
    {
     "data": {
      "text/plain": "   Actual  Predicted\n0      90  89.112028\n1      22  16.060142\n2      93  97.706368\n3      62  46.140330",
      "text/html": "<div>\n<style scoped>\n    .dataframe tbody tr th:only-of-type {\n        vertical-align: middle;\n    }\n\n    .dataframe tbody tr th {\n        vertical-align: top;\n    }\n\n    .dataframe thead th {\n        text-align: right;\n    }\n</style>\n<table border=\"1\" class=\"dataframe\">\n  <thead>\n    <tr style=\"text-align: right;\">\n      <th></th>\n      <th>Actual</th>\n      <th>Predicted</th>\n    </tr>\n  </thead>\n  <tbody>\n    <tr>\n      <th>0</th>\n      <td>90</td>\n      <td>89.112028</td>\n    </tr>\n    <tr>\n      <th>1</th>\n      <td>22</td>\n      <td>16.060142</td>\n    </tr>\n    <tr>\n      <th>2</th>\n      <td>93</td>\n      <td>97.706368</td>\n    </tr>\n    <tr>\n      <th>3</th>\n      <td>62</td>\n      <td>46.140330</td>\n    </tr>\n  </tbody>\n</table>\n</div>"
     },
     "metadata": {},
     "output_type": "display_data"
    },
    {
     "data": {
      "text/plain": "<Figure size 432x288 with 1 Axes>",
      "image/png": "[encoded data removed]"
     },
     "metadata": {
      "needs_background": "light"
     },
     "output_type": "display_data"
    },
    {
     "data": {
      "text/plain": "<Figure size 432x288 with 1 Axes>",
      "image/png": "[encoded data removed]"
     },
     "metadata": {
      "needs_background": "light"
     },
     "output_type": "display_data"
    }
   ],
   "source": [
    "y_pred = regressor.predict(X_test)\n",
    "\n",
    "#сравним фактические значения с прогнозируемыми\n",
    "df = pd.DataFrame({\"Actual\": y_test, \"Predicted\": y_pred})\n",
    "display(df)\n",
    "\n",
    "#визуализируем результат сравнения в виде гистограммы\n",
    "df.plot(kind='bar')\n",
    "plt.grid(which='major', linestyle='-', linewidth='0.5', color='green')\n",
    "plt.grid(which='minor', linestyle=':', linewidth='0.5', color='black')\n",
    "plt.show()\n",
    "\n",
    "#построим линию регрессии с тестовыми данными\n",
    "plt.scatter(X_test, y_test, color='gray')\n",
    "plt.plot(X_test, y_pred, color='red', linewidth=2)\n",
    "plt.show()"
   ],
   "metadata": {
    "collapsed": false,
    "pycharm": {
     "name": "#%%\n"
    }
   }
  },
  {
   "cell_type": "markdown",
   "source": [
    "<strong>1.2.2 Задание </strong> Постройте модель линейной регрессии для произвольных данных из двух\n",
    "столбцов. Для примера можно взять точечную зависимость заработной платы от\n",
    "опыта работы:\n",
    "(https://raw.githubusercontent.com/AnnaShestova/salary-years-simple-linearregression/master/Salary_Data.csv).\n",
    "Найдите коэффициенты линии регрессии. Постройте прогноз."
   ],
   "metadata": {
    "collapsed": false
   }
  },
  {
   "cell_type": "code",
   "execution_count": 38,
   "outputs": [
    {
     "data": {
      "text/plain": "   Actual  Predicted\n0      73  67.765517\n1      50  44.158621\n2      22  36.289655\n3      10  16.617241",
      "text/html": "<div>\n<style scoped>\n    .dataframe tbody tr th:only-of-type {\n        vertical-align: middle;\n    }\n\n    .dataframe tbody tr th {\n        vertical-align: top;\n    }\n\n    .dataframe thead th {\n        text-align: right;\n    }\n</style>\n<table border=\"1\" class=\"dataframe\">\n  <thead>\n    <tr style=\"text-align: right;\">\n      <th></th>\n      <th>Actual</th>\n      <th>Predicted</th>\n    </tr>\n  </thead>\n  <tbody>\n    <tr>\n      <th>0</th>\n      <td>73</td>\n      <td>67.765517</td>\n    </tr>\n    <tr>\n      <th>1</th>\n      <td>50</td>\n      <td>44.158621</td>\n    </tr>\n    <tr>\n      <th>2</th>\n      <td>22</td>\n      <td>36.289655</td>\n    </tr>\n    <tr>\n      <th>3</th>\n      <td>10</td>\n      <td>16.617241</td>\n    </tr>\n  </tbody>\n</table>\n</div>"
     },
     "metadata": {},
     "output_type": "display_data"
    },
    {
     "data": {
      "text/plain": "<Figure size 432x288 with 1 Axes>",
      "image/png": "[encoded data removed]"
     },
     "metadata": {
      "needs_background": "light"
     },
     "output_type": "display_data"
    },
    {
     "data": {
      "text/plain": "<Figure size 432x288 with 1 Axes>",
      "image/png": "[encoded data removed]"
     },
     "metadata": {
      "needs_background": "light"
     },
     "output_type": "display_data"
    },
    {
     "name": "stdout",
     "output_type": "stream",
     "text": [
      "Коэффициенты линии регрессии:\n",
      "8.748275862068951\n",
      "[15.73793103]\n"
     ]
    }
   ],
   "source": [
    "import pandas as pd\n",
    "import numpy as np\n",
    "import matplotlib.pyplot as plt\n",
    "from sklearn.model_selection import train_test_split\n",
    "from sklearn.linear_model import LinearRegression\n",
    "\n",
    "url = 'https://raw.githubusercontent.com/AnnaShestova/salary-years-simple-linear-regression/master/Salary_Data.csv'\n",
    "\n",
    "dataframe = pd.read_csv(url)\n",
    "X = dataset.iloc[:, :-1].values\n",
    "y = dataset.iloc[:, 1].values\n",
    "\n",
    "X_train, X_test, y_train, y_test = train_test_split(\n",
    "    X,\n",
    "    y,\n",
    "    test_size = 0.20\n",
    ")\n",
    "\n",
    "regressor = LinearRegression()\n",
    "regressor.fit(X_train, y_train)\n",
    "\n",
    "y_pred = regressor.predict(X_test)\n",
    "\n",
    "#сравним фактические значения с прогнозируемыми\n",
    "df = pd.DataFrame({\"Actual\": y_test, \"Predicted\": y_pred})\n",
    "display(df)\n",
    "\n",
    "#визуализируем результат сравнения в виде гистограммы\n",
    "df.plot(kind='bar')\n",
    "plt.grid(which='major', linestyle='-', linewidth='0.5', color='green')\n",
    "plt.grid(which='minor', linestyle=':', linewidth='0.5', color='black')\n",
    "plt.show()\n",
    "\n",
    "#построим линию регрессии с тестовыми данными\n",
    "plt.scatter(X_test, y_test, color='gray')\n",
    "plt.plot(X_test, y_pred, color='red', linewidth=2)\n",
    "plt.show()\n",
    "\n",
    "print('Коэффициенты линии регрессии:')\n",
    "print(regressor.intercept_)\n",
    "print(regressor.coef_)"
   ],
   "metadata": {
    "collapsed": false,
    "pycharm": {
     "name": "#%%\n"
    }
   }
  },
  {
   "cell_type": "markdown",
   "source": [
    "### 1.3 Множественная регрессия\n",
    "В предыдущем примере мы проиллюстрировали линейную регрессию с двумя переменными. Однако, почти все реальные задачи имеют больше параметров. Линейная регрессия с участием нескольких переменных называется «множественной линейной регрессией» или многомерной\n",
    "линейной регрессией. Шаги для выполнения множественной линейной регрессии аналогичны шагам для простой. Разница заключается в оценке. Вы можете использовать множественную регрессию, чтобы узнать, какой фактор оказывает наибольшее влияние на прогнозируемый результат или как различные переменные связаны друг с другом."
   ],
   "metadata": {
    "collapsed": false,
    "pycharm": {
     "name": "#%% md\n"
    }
   }
  },
  {
   "cell_type": "markdown",
   "source": [
    "<strong>1.3.1 Пример </strong> Для решения задачи множественной регрессии можно задействовать уже известный метод numpy.linalg.lstsq."
   ],
   "metadata": {
    "collapsed": false
   }
  },
  {
   "cell_type": "code",
   "execution_count": 39,
   "outputs": [
    {
     "name": "stdout",
     "output_type": "stream",
     "text": [
      "[ 0.1338682   0.26840334 -0.02874936  1.5122571 ]\n"
     ]
    }
   ],
   "source": [
    "import numpy as np\n",
    "\n",
    "y = [1, 2, 3, 4, 3, 4, 5, 3, 5, 5, 4, 5, 4, 5, 4, 5, 6, 0, 6, 3, 1, 3, 1]\n",
    "X = [[0, 2, 4, 1, 5, 4, 5, 9, 9, 9, 3, 7, 8, 8, 6, 6, 5, 5, 5, 6, 6, 5, 5],\n",
    "     [4, 1, 2, 3, 4, 5, 6, 7, 5, 8, 7, 8, 7, 8, 7, 8, 6, 8, 9, 2, 1, 5, 6],\n",
    "     [4, 1, 2, 5, 6, 7, 8, 9, 7, 8, 7, 8, 7, 4, 3, 1, 2, 3, 4, 1, 3, 9, 7]]\n",
    "\n",
    "X = np.transpose(X)\n",
    "X = np.c_[X, np.ones(X.shape[0])]\n",
    "linreg = np.linalg.lstsq(X, y, rcond=None)[0]\n",
    "print(linreg)"
   ],
   "metadata": {
    "collapsed": false,
    "pycharm": {
     "name": "#%%\n"
    }
   }
  },
  {
   "cell_type": "markdown",
   "source": [
    "<strong>1.3.2 Пример </strong> Для данных из предыдущей задачи построить модель множественной линейной регрессии с использованием средств библиотеки sсikit-learn."
   ],
   "metadata": {
    "collapsed": false
   }
  },
  {
   "cell_type": "code",
   "execution_count": 40,
   "outputs": [
    {
     "data": {
      "text/plain": "   y  x1  x2  x3\n0  1   0   4   4\n1  2   2   1   1\n2  3   4   2   2\n3  4   1   3   5\n4  3   5   4   6",
      "text/html": "<div>\n<style scoped>\n    .dataframe tbody tr th:only-of-type {\n        vertical-align: middle;\n    }\n\n    .dataframe tbody tr th {\n        vertical-align: top;\n    }\n\n    .dataframe thead th {\n        text-align: right;\n    }\n</style>\n<table border=\"1\" class=\"dataframe\">\n  <thead>\n    <tr style=\"text-align: right;\">\n      <th></th>\n      <th>y</th>\n      <th>x1</th>\n      <th>x2</th>\n      <th>x3</th>\n    </tr>\n  </thead>\n  <tbody>\n    <tr>\n      <th>0</th>\n      <td>1</td>\n      <td>0</td>\n      <td>4</td>\n      <td>4</td>\n    </tr>\n    <tr>\n      <th>1</th>\n      <td>2</td>\n      <td>2</td>\n      <td>1</td>\n      <td>1</td>\n    </tr>\n    <tr>\n      <th>2</th>\n      <td>3</td>\n      <td>4</td>\n      <td>2</td>\n      <td>2</td>\n    </tr>\n    <tr>\n      <th>3</th>\n      <td>4</td>\n      <td>1</td>\n      <td>3</td>\n      <td>5</td>\n    </tr>\n    <tr>\n      <th>4</th>\n      <td>3</td>\n      <td>5</td>\n      <td>4</td>\n      <td>6</td>\n    </tr>\n  </tbody>\n</table>\n</div>"
     },
     "metadata": {},
     "output_type": "display_data"
    },
    {
     "data": {
      "text/plain": "(23, 4)"
     },
     "metadata": {},
     "output_type": "display_data"
    },
    {
     "data": {
      "text/plain": "               y         x1         x2         x3\ncount  23.000000  23.000000  23.000000  23.000000\nmean    3.565217   5.347826   5.521739   5.043478\nstd     1.674029   2.404706   2.428422   2.704849\nmin     0.000000   0.000000   1.000000   1.000000\n25%     3.000000   4.500000   4.000000   3.000000\n50%     4.000000   5.000000   6.000000   5.000000\n75%     5.000000   6.500000   7.500000   7.000000\nmax     6.000000   9.000000   9.000000   9.000000",
      "text/html": "<div>\n<style scoped>\n    .dataframe tbody tr th:only-of-type {\n        vertical-align: middle;\n    }\n\n    .dataframe tbody tr th {\n        vertical-align: top;\n    }\n\n    .dataframe thead th {\n        text-align: right;\n    }\n</style>\n<table border=\"1\" class=\"dataframe\">\n  <thead>\n    <tr style=\"text-align: right;\">\n      <th></th>\n      <th>y</th>\n      <th>x1</th>\n      <th>x2</th>\n      <th>x3</th>\n    </tr>\n  </thead>\n  <tbody>\n    <tr>\n      <th>count</th>\n      <td>23.000000</td>\n      <td>23.000000</td>\n      <td>23.000000</td>\n      <td>23.000000</td>\n    </tr>\n    <tr>\n      <th>mean</th>\n      <td>3.565217</td>\n      <td>5.347826</td>\n      <td>5.521739</td>\n      <td>5.043478</td>\n    </tr>\n    <tr>\n      <th>std</th>\n      <td>1.674029</td>\n      <td>2.404706</td>\n      <td>2.428422</td>\n      <td>2.704849</td>\n    </tr>\n    <tr>\n      <th>min</th>\n      <td>0.000000</td>\n      <td>0.000000</td>\n      <td>1.000000</td>\n      <td>1.000000</td>\n    </tr>\n    <tr>\n      <th>25%</th>\n      <td>3.000000</td>\n      <td>4.500000</td>\n      <td>4.000000</td>\n      <td>3.000000</td>\n    </tr>\n    <tr>\n      <th>50%</th>\n      <td>4.000000</td>\n      <td>5.000000</td>\n      <td>6.000000</td>\n      <td>5.000000</td>\n    </tr>\n    <tr>\n      <th>75%</th>\n      <td>5.000000</td>\n      <td>6.500000</td>\n      <td>7.500000</td>\n      <td>7.000000</td>\n    </tr>\n    <tr>\n      <th>max</th>\n      <td>6.000000</td>\n      <td>9.000000</td>\n      <td>9.000000</td>\n      <td>9.000000</td>\n    </tr>\n  </tbody>\n</table>\n</div>"
     },
     "metadata": {},
     "output_type": "display_data"
    },
    {
     "data": {
      "text/plain": "    Coefficient\nx1     0.223219\nx2     0.136709\nx3    -0.063757",
      "text/html": "<div>\n<style scoped>\n    .dataframe tbody tr th:only-of-type {\n        vertical-align: middle;\n    }\n\n    .dataframe tbody tr th {\n        vertical-align: top;\n    }\n\n    .dataframe thead th {\n        text-align: right;\n    }\n</style>\n<table border=\"1\" class=\"dataframe\">\n  <thead>\n    <tr style=\"text-align: right;\">\n      <th></th>\n      <th>Coefficient</th>\n    </tr>\n  </thead>\n  <tbody>\n    <tr>\n      <th>x1</th>\n      <td>0.223219</td>\n    </tr>\n    <tr>\n      <th>x2</th>\n      <td>0.136709</td>\n    </tr>\n    <tr>\n      <th>x3</th>\n      <td>-0.063757</td>\n    </tr>\n  </tbody>\n</table>\n</div>"
     },
     "metadata": {},
     "output_type": "display_data"
    },
    {
     "data": {
      "text/plain": "    Actual  Predicted\n11       5   4.119478\n10       4   3.153648\n21       3   3.199155\n14       4   4.078333\n20       1   3.258079",
      "text/html": "<div>\n<style scoped>\n    .dataframe tbody tr th:only-of-type {\n        vertical-align: middle;\n    }\n\n    .dataframe tbody tr th {\n        vertical-align: top;\n    }\n\n    .dataframe thead th {\n        text-align: right;\n    }\n</style>\n<table border=\"1\" class=\"dataframe\">\n  <thead>\n    <tr style=\"text-align: right;\">\n      <th></th>\n      <th>Actual</th>\n      <th>Predicted</th>\n    </tr>\n  </thead>\n  <tbody>\n    <tr>\n      <th>11</th>\n      <td>5</td>\n      <td>4.119478</td>\n    </tr>\n    <tr>\n      <th>10</th>\n      <td>4</td>\n      <td>3.153648</td>\n    </tr>\n    <tr>\n      <th>21</th>\n      <td>3</td>\n      <td>3.199155</td>\n    </tr>\n    <tr>\n      <th>14</th>\n      <td>4</td>\n      <td>4.078333</td>\n    </tr>\n    <tr>\n      <th>20</th>\n      <td>1</td>\n      <td>3.258079</td>\n    </tr>\n  </tbody>\n</table>\n</div>"
     },
     "metadata": {},
     "output_type": "display_data"
    },
    {
     "name": "stdout",
     "output_type": "stream",
     "text": [
      "Mean Squared Error:  1.3272699242343065\n"
     ]
    }
   ],
   "source": [
    "import pandas as pd\n",
    "import numpy as np\n",
    "import matplotlib.pyplot as plt\n",
    "import seaborn as seabornInstance\n",
    "from sklearn.model_selection import train_test_split\n",
    "from sklearn.linear_model import LinearRegression\n",
    "from sklearn import metrics\n",
    "\n",
    "y = [1, 2, 3, 4, 3, 4, 5, 3, 5, 5, 4, 5, 4, 5, 4, 5, 6, 0, 6, 3, 1, 3, 1]\n",
    "X = [[0, 2, 4, 1, 5, 4, 5, 9, 9, 9, 3, 7, 8, 8, 6, 6, 5, 5, 5, 6, 6, 5, 5],\n",
    "     [4, 1, 2, 3, 4, 5, 6, 7, 5, 8, 7, 8, 7, 8, 7, 8, 6, 8, 9, 2, 1, 5, 6],\n",
    "     [4, 1, 2, 5, 6, 7, 8, 9, 7, 8, 7, 8, 7, 4, 3, 1, 2, 3, 4, 1, 3, 9, 7]]\n",
    "\n",
    "#формируем DataFrame из двух списков\n",
    "new_y = np.array(y)\n",
    "new_y = new_y.transpose()\n",
    "df1 = pd.DataFrame(new_y)\n",
    "new_X = np.array(X)\n",
    "new_X = new_X.transpose()\n",
    "df2 = pd.DataFrame(new_X)\n",
    "df1 = df1.rename(columns = {0: 'y'}, inplace = False)\n",
    "df2 = df2.rename(columns = {0: 'x1', 1: 'x2', 2: 'x3'}, inplace = False)\n",
    "\n",
    "frames = [df1, df2]\n",
    "dataset = pd.concat([df1, df2], axis = 1, join='inner')\n",
    "display(dataset.head())\n",
    "\n",
    "#изучим данные\n",
    "display(dataset.shape)\n",
    "display(dataset.describe())\n",
    "\n",
    "#разделим данные на метки и атрибуты\n",
    "X = dataset[['x1', 'x2', 'x3']]\n",
    "y = dataset['y']\n",
    "\n",
    "#разделим данные на обучающую и текстовую выборку\n",
    "X_train, X_test, y_train, y_test = train_test_split(X, y, test_size=0.2, random_state=0)\n",
    "\n",
    "#для обучения алгоритма мы выполняем тот же код, что и раньше, используя метод fit() класса LinearRegression\n",
    "regressor = LinearRegression()\n",
    "regressor.fit(X_train, y_train)\n",
    "\n",
    "#выведем коэффициенты модели\n",
    "coeff_df = pd.DataFrame(regressor.coef_, X.columns, columns = ['Coefficient'])\n",
    "display(coeff_df)\n",
    "\n",
    "#чтобы сделать прогнозы на тестовых данных, выполните следующий код\n",
    "y_pred = regressor.predict(X_test)\n",
    "df = pd.DataFrame({'Actual': y_test, 'Predicted': y_pred})\n",
    "display(df)\n",
    "\n",
    "#последний шаг - оценить производительность алгоритма; мы сделаем это, найдя значения для MSE\n",
    "print('Mean Squared Error: ', metrics.mean_squared_error(y_test, y_pred))"
   ],
   "metadata": {
    "collapsed": false,
    "pycharm": {
     "name": "#%%\n"
    }
   }
  },
  {
   "cell_type": "markdown",
   "source": [
    "<strong>1.3.3 Задание </strong> Постройте модель множественной линейной регрессии для произвольных данных из нескольких столбцов. Для примера можно взять потребления газа (в миллионах галлонов) в 48 штатах США или набор данных о качестве красного вина (1) и (2) соответственно. Найдите коэффициенты множественной регрессии. Постройте прогноз.\n",
    "<ol>\n",
    "<li>https://raw.githubusercontent.com/likarajo/petrol_consumption/master/data/petrol_consumption.csv</li>\n",
    "<li>https://raw.githubusercontent.com/aniruddhachoudhury/Red-WineQuality/master/winequality-red.csv</li>\n",
    "</ol>"
   ],
   "metadata": {
    "collapsed": false
   }
  },
  {
   "cell_type": "code",
   "execution_count": 42,
   "outputs": [
    {
     "data": {
      "text/plain": "    Actual   Predicted\n29     534  469.391989\n4      410  545.645464\n26     577  589.668394\n30     571  569.730413\n32     577  649.774809\n37     704  646.631164\n34     487  511.608148\n40     587  672.475177\n7      467  502.074782\n10     580  501.270734",
      "text/html": "<div>\n<style scoped>\n    .dataframe tbody tr th:only-of-type {\n        vertical-align: middle;\n    }\n\n    .dataframe tbody tr th {\n        vertical-align: top;\n    }\n\n    .dataframe thead th {\n        text-align: right;\n    }\n</style>\n<table border=\"1\" class=\"dataframe\">\n  <thead>\n    <tr style=\"text-align: right;\">\n      <th></th>\n      <th>Actual</th>\n      <th>Predicted</th>\n    </tr>\n  </thead>\n  <tbody>\n    <tr>\n      <th>29</th>\n      <td>534</td>\n      <td>469.391989</td>\n    </tr>\n    <tr>\n      <th>4</th>\n      <td>410</td>\n      <td>545.645464</td>\n    </tr>\n    <tr>\n      <th>26</th>\n      <td>577</td>\n      <td>589.668394</td>\n    </tr>\n    <tr>\n      <th>30</th>\n      <td>571</td>\n      <td>569.730413</td>\n    </tr>\n    <tr>\n      <th>32</th>\n      <td>577</td>\n      <td>649.774809</td>\n    </tr>\n    <tr>\n      <th>37</th>\n      <td>704</td>\n      <td>646.631164</td>\n    </tr>\n    <tr>\n      <th>34</th>\n      <td>487</td>\n      <td>511.608148</td>\n    </tr>\n    <tr>\n      <th>40</th>\n      <td>587</td>\n      <td>672.475177</td>\n    </tr>\n    <tr>\n      <th>7</th>\n      <td>467</td>\n      <td>502.074782</td>\n    </tr>\n    <tr>\n      <th>10</th>\n      <td>580</td>\n      <td>501.270734</td>\n    </tr>\n  </tbody>\n</table>\n</div>"
     },
     "metadata": {},
     "output_type": "display_data"
    },
    {
     "data": {
      "text/plain": "      Actual  Predicted\n1109       6   5.782930\n1032       5   5.036193\n1002       7   6.596989\n487        6   5.339126\n979        5   5.939529\n...      ...        ...\n794        6   6.559757\n813        4   6.017576\n1322       5   6.251291\n704        4   5.163926\n1023       6   6.367205\n\n[320 rows x 2 columns]",
      "text/html": "<div>\n<style scoped>\n    .dataframe tbody tr th:only-of-type {\n        vertical-align: middle;\n    }\n\n    .dataframe tbody tr th {\n        vertical-align: top;\n    }\n\n    .dataframe thead th {\n        text-align: right;\n    }\n</style>\n<table border=\"1\" class=\"dataframe\">\n  <thead>\n    <tr style=\"text-align: right;\">\n      <th></th>\n      <th>Actual</th>\n      <th>Predicted</th>\n    </tr>\n  </thead>\n  <tbody>\n    <tr>\n      <th>1109</th>\n      <td>6</td>\n      <td>5.782930</td>\n    </tr>\n    <tr>\n      <th>1032</th>\n      <td>5</td>\n      <td>5.036193</td>\n    </tr>\n    <tr>\n      <th>1002</th>\n      <td>7</td>\n      <td>6.596989</td>\n    </tr>\n    <tr>\n      <th>487</th>\n      <td>6</td>\n      <td>5.339126</td>\n    </tr>\n    <tr>\n      <th>979</th>\n      <td>5</td>\n      <td>5.939529</td>\n    </tr>\n    <tr>\n      <th>...</th>\n      <td>...</td>\n      <td>...</td>\n    </tr>\n    <tr>\n      <th>794</th>\n      <td>6</td>\n      <td>6.559757</td>\n    </tr>\n    <tr>\n      <th>813</th>\n      <td>4</td>\n      <td>6.017576</td>\n    </tr>\n    <tr>\n      <th>1322</th>\n      <td>5</td>\n      <td>6.251291</td>\n    </tr>\n    <tr>\n      <th>704</th>\n      <td>4</td>\n      <td>5.163926</td>\n    </tr>\n    <tr>\n      <th>1023</th>\n      <td>6</td>\n      <td>6.367205</td>\n    </tr>\n  </tbody>\n</table>\n<p>320 rows × 2 columns</p>\n</div>"
     },
     "metadata": {},
     "output_type": "display_data"
    },
    {
     "name": "stdout",
     "output_type": "stream",
     "text": [
      "Mean Squared Error first csv:  4666.344787588363\n",
      "Mean Squared Error second csv:  0.38447119782012457\n"
     ]
    }
   ],
   "source": [
    "import pandas as pd\n",
    "import numpy as np\n",
    "from sklearn.model_selection import train_test_split\n",
    "from sklearn.linear_model import LinearRegression\n",
    "from sklearn import metrics\n",
    "\n",
    "url1 = 'https://raw.githubusercontent.com/likarajo/petrol_consumption/master/data/petrol_consumption.csv'\n",
    "url2 = 'https://raw.githubusercontent.com/aniruddhachoudhury/Red-Wine-Quality/master/winequality-red.csv'\n",
    "\n",
    "dataset1 = pd.read_csv(url1)\n",
    "dataset2 = pd.read_csv(url2)\n",
    "\n",
    "X_train1, X_test1, y_train1, y_test1 = train_test_split(dataset1.iloc[:, :-1],\n",
    "                                                        dataset1.iloc[:, -1],\n",
    "                                                        test_size=0.2,\n",
    "                                                        random_state=0)\n",
    "\n",
    "X_train2, X_test2, y_train2, y_test2 = train_test_split(dataset2.iloc[:, :-1],\n",
    "                                                        dataset2.iloc[:, -1],\n",
    "                                                        test_size=0.2,\n",
    "                                                        random_state=0)\n",
    "\n",
    "regressor1 = LinearRegression()\n",
    "regressor1.fit(X_train1, y_train1)\n",
    "\n",
    "regressor2 = LinearRegression()\n",
    "regressor2.fit(X_train2, y_train2)\n",
    "\n",
    "y_pred1 = regressor1.predict(X_test1)\n",
    "df1 = pd.DataFrame({'Actual': y_test1, 'Predicted': y_pred1})\n",
    "display(df1)\n",
    "\n",
    "y_pred2 = regressor2.predict(X_test2)\n",
    "df2 = pd.DataFrame({'Actual': y_test2, 'Predicted': y_pred2})\n",
    "display(df2)\n",
    "\n",
    "print('Mean Squared Error first csv: ', metrics.mean_squared_error(y_test1, y_pred1))\n",
    "print('Mean Squared Error second csv: ', metrics.mean_squared_error(y_test2, y_pred2))\n"
   ],
   "metadata": {
    "collapsed": false,
    "pycharm": {
     "name": "#%%\n"
    }
   }
  },
  {
   "cell_type": "markdown",
   "source": [
    "<p><strong>1.3.4 Задание </strong> Экспериментально получены N − значений величины Y при различных значениях величины X. Построить полиномы первой и второй степени, аппроксимирующие результаты эксперимента, с применением метода наименьших квадратов. Результаты выводятся в виде таблиц значений и графиков, полученных полиномов.</p>\n",
    "\n",
    "<p>Вариант №6.<br>\n",
    "x = [4.0, 4.2, 4.4, 4.6, 4.8, 5.0]<br>\n",
    "y = [4.0, 3.0, 6.0, 6.0, 4.0, 4.0]</p>"
   ],
   "metadata": {
    "collapsed": false
   }
  },
  {
   "cell_type": "code",
   "execution_count": 50,
   "outputs": [
    {
     "name": "stdout",
     "output_type": "stream",
     "text": [
      "[[4.  1. ]\n",
      " [4.2 1. ]\n",
      " [4.4 1. ]\n",
      " [4.6 1. ]\n",
      " [4.8 1. ]\n",
      " [5.  1. ]]\n",
      "0.42857142857142755 2.5714285714285756\n"
     ]
    },
    {
     "data": {
      "text/plain": "<Figure size 432x288 with 1 Axes>",
      "image/png": "[encoded data removed]"
     },
     "metadata": {
      "needs_background": "light"
     },
     "output_type": "display_data"
    },
    {
     "name": "stdout",
     "output_type": "stream",
     "text": [
      "[  -6.69642857   60.69642857 -132.25      ]\n"
     ]
    },
    {
     "data": {
      "text/plain": "<Figure size 432x288 with 1 Axes>",
      "image/png": "[encoded data removed]"
     },
     "metadata": {
      "needs_background": "light"
     },
     "output_type": "display_data"
    }
   ],
   "source": [
    "import numpy as np\n",
    "import matplotlib.pyplot as plt\n",
    "\n",
    "x = np.array([4.0, 4.2, 4.4, 4.6, 4.8, 5.0])\n",
    "y = np.array([4.0, 3.0, 6.0, 6.0, 4.0, 4.0])\n",
    "\n",
    "A = np.vstack([x, np.ones(len(x))]).T\n",
    "print(A)\n",
    "\n",
    "m, c = np.linalg.lstsq(A, y, rcond = None)[0]\n",
    "print(m, c)\n",
    "\n",
    "plt.plot(x, y, 'o', label = 'Исходные данные', markersize = 10)\n",
    "plt.plot(x, m*x + c, 'r', label = 'Линейная экстраполяция')\n",
    "plt.legend()\n",
    "plt.show()\n",
    "\n",
    "m = np.vstack((x ** 2, x, np.ones(6))).T\n",
    "\n",
    "s = np.linalg.lstsq(m, y, rcond = None)[0]\n",
    "\n",
    "x_prec = np.linspace(4, 5, 6)\n",
    "\n",
    "plt.plot(x, y, 'D')\n",
    "plt.plot(x_prec, s[0] * x_prec ** 2 + s[1] * x_prec + s[2], '-', lw = 2)\n",
    "plt.grid()\n",
    "print(s)"
   ],
   "metadata": {
    "collapsed": false,
    "pycharm": {
     "name": "#%%\n"
    }
   }
  }
 ],
 "metadata": {
  "kernelspec": {
   "display_name": "Python 3",
   "language": "python",
   "name": "python3"
  },
  "language_info": {
   "codemirror_mode": {
    "name": "ipython",
    "version": 2
   },
   "file_extension": ".py",
   "mimetype": "text/x-python",
   "name": "python",
   "nbconvert_exporter": "python",
   "pygments_lexer": "ipython2",
   "version": "2.7.6"
  }
 },
 "nbformat": 4,
 "nbformat_minor": 0
}