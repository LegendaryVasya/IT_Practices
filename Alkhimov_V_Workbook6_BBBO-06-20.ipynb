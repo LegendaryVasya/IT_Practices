{
 "cells": [
  {
   "cell_type": "markdown",
   "source": [
    "# Рабочая тетрадь №6\n",
    "\n",
    "## Алхимов Василий БББО-06-20"
   ],
   "metadata": {
    "collapsed": false
   }
  },
  {
   "cell_type": "markdown",
   "source": [
    "## Теоретический материал – Эволюционные методы\n",
    "Деревья решений являются одним из наиболее эффективных Эволюционные методы.\n",
    "\n",
    "Эволюционные методы относятся к числу эффективных средств решения задач оптимизации и структурного синтеза проектных решений. Они основаны на использовании принципов оптимального приспособления организмов в живой природе к условиям окружающей среды. К числу эволюционных относятся методы генетические, колонии муравьев, поведения толпы. Наиболее развиты и востребованы в настоящее время генетические алгоритмы. По мере развития техники и технологий растет доля сложных задач проектирования и управления, для решения которых применение традиционных методов проблематично. Поэтому все большее внимание уделяется применению методов искусственного интеллекта.\n",
    "Генетические алгоритмы.\n",
    "Для применения ГА необходимо:\n",
    "1.\tвыделить совокупность свойств объекта, характеризуемых внутренними параметрами и влияющих на его полезность, т.е. выделить множество управляемых параметров  X=(x_1,x_2,…,x_n), среди x_i могут быть величины различных типов (real, integer, Boolean, enumeration). Наличие нечисловых величин (enumeration) обусловливает возможность решения задач не только параметрической, но и структурной оптимизации;\n",
    "2.\tсформулировать количественную оценку полезности вариантов объекта — функцию полезности F. Если в исходном виде задача многокритериальна, то такая формулировка означает выбор скалярного (обобщенного) критерия;\n",
    "3.\tпредставить вектор X в форме хромосомы — записи следующего вида:\n",
    "![image-2.png](attachment:image-2.png)\n",
    "Этапы генетического алгоритма могут быть представлены в следующем виде:\n",
    "``` python\n",
    "for (k=0; k<G; k++)\n",
    "{ for (j=0; j<N; j++)\n",
    "  { Выбор родительской пары хромосом;\n",
    "    Кроссовер;\n",
    "    Мутации;\n",
    "    Оценка функции полезности F потомков;\n",
    "    Селекция;\n",
    "  }\n",
    "  Замена текущего поколения новым;\n",
    "}\n",
    "```"
   ],
   "metadata": {
    "collapsed": false
   }
  },
  {
   "cell_type": "markdown",
   "source": [
    "**1.1.1 Пример**\n",
    "\n",
    "***Задача:***\n",
    "\n",
    "Пусть дана начальная популяция из четырех хромосом с двумя генами x и y. Показатель качества хромосомы оценивается функцией Z. При равном качестве хромосом предпочтение отдается хромосоме с большим номером. На каждом этапе хромосома a с высшим качеством порождает четыре новых хромосомы b1, c1, b2, c2, обмениваясь генами с двумя хромосомами b и c более низкого качества по указанной схеме:\n",
    "![image.png](attachment:image.png)\n",
    "Последняя хромоcома (с низшим качеством) выбывает из популяции. Найти максимальный показатель качества хромосомы в популяции и общее качество популяции после четырех этапов эволюции.\n",
    "\n",
    "\n",
    "***Решение:***"
   ],
   "metadata": {
    "collapsed": false
   }
  },
  {
   "cell_type": "markdown",
   "source": [
    "Потребуется несколько функций для реализации алгоритма. Напишем их.\n",
    "Начнем с функции оценки качества хромосомы qZ(x,y):"
   ],
   "metadata": {
    "collapsed": false
   }
  },
  {
   "cell_type": "code",
   "execution_count": 1,
   "outputs": [],
   "source": [
    "# функция качества хромосомы\n",
    "def qZ(x, y):\n",
    "    return (x - 3 * y + 1) / (3 * x ** 2 + 3 * y ** 2 + 1)"
   ],
   "metadata": {
    "collapsed": false,
    "pycharm": {
     "name": "#%%\n"
    }
   }
  },
  {
   "cell_type": "markdown",
   "source": [
    "Далее, оценим суммарное качество хромосом:"
   ],
   "metadata": {
    "collapsed": false
   }
  },
  {
   "cell_type": "code",
   "execution_count": 2,
   "outputs": [],
   "source": [
    "# сумма качества хромосом\n",
    "def qSumZ(Z):\n",
    "    return sum(Z)"
   ],
   "metadata": {
    "collapsed": false,
    "pycharm": {
     "name": "#%%\n"
    }
   }
  },
  {
   "cell_type": "markdown",
   "source": [
    "И запрограммируем представленную выше схему обмена хромосомами:"
   ],
   "metadata": {
    "collapsed": false
   }
  },
  {
   "cell_type": "code",
   "execution_count": 3,
   "outputs": [],
   "source": [
    "def exchangeScheme(oldX, oldY, sortedId):\n",
    "    X = [0 for i in range(4)]\n",
    "    Y = [0 for i in range(4)]\n",
    "\n",
    "    X[2] = oldX[sortedId[2]]\n",
    "    X[3] = oldX[sortedId[2]]\n",
    "\n",
    "    X[0] = oldX[sortedId[0]]\n",
    "\n",
    "    X[1] = oldX[sortedId[1]]\n",
    "\n",
    "    Y[0] = oldY[sortedId[2]]\n",
    "    Y[1] = oldY[sortedId[2]]\n",
    "\n",
    "    Y[2] = oldY[sortedId[0]]\n",
    "\n",
    "    Y[3] = oldY[sortedId[1]]\n",
    "\n",
    "    return X, Y"
   ],
   "metadata": {
    "collapsed": false,
    "pycharm": {
     "name": "#%%\n"
    }
   }
  },
  {
   "cell_type": "markdown",
   "source": [
    "Отсортируем массив качества наших потомков и выделим полученные индексы:"
   ],
   "metadata": {
    "collapsed": false
   }
  },
  {
   "cell_type": "code",
   "execution_count": 4,
   "outputs": [],
   "source": [
    "def sorting(Z):\n",
    "    sortedId = sorted(range(len(Z)), key = lambda k: Z[k])\n",
    "    return sortedId"
   ],
   "metadata": {
    "collapsed": false,
    "pycharm": {
     "name": "#%%\n"
    }
   }
  },
  {
   "cell_type": "markdown",
   "source": [
    "Напишем функцию для шага эволюции:"
   ],
   "metadata": {
    "collapsed": false
   }
  },
  {
   "cell_type": "code",
   "execution_count": 5,
   "outputs": [],
   "source": [
    "# шаг эволюции\n",
    "def evoStep(X, Y, Z):\n",
    "    _, minId = min((value, id) for (id, value) in enumerate(Z))\n",
    "    X = X[:]\n",
    "    Y = Y[:]\n",
    "    Z = Z[:]\n",
    "\n",
    "    X.pop(minId)\n",
    "    Y.pop(minId)\n",
    "    Z.pop(minId)\n",
    "\n",
    "    return X, Y, Z"
   ],
   "metadata": {
    "collapsed": false,
    "pycharm": {
     "name": "#%%\n"
    }
   }
  },
  {
   "cell_type": "markdown",
   "source": [
    "Произведем эволюционные изменения, в соответствии с задачей - 4 шага:"
   ],
   "metadata": {
    "collapsed": false
   }
  },
  {
   "cell_type": "code",
   "execution_count": 6,
   "outputs": [],
   "source": [
    "# шаги эволюции (конечная функция), по умолчанию 4 шага\n",
    "def evoSteps(X, Y, stepsNum = 4):\n",
    "    results = []\n",
    "\n",
    "    for i in range(stepsNum):\n",
    "        arrZ = [qZ(x, Y[i]) for i, x in enumerate(X)]\n",
    "\n",
    "        X, Y, Z = evoStep(X, Y, arrZ)\n",
    "\n",
    "        X, Y = exchangeScheme(X, Y, sorting(Z))\n",
    "\n",
    "        results.append([X, Y, qSumZ(arrZ), arrZ])\n",
    "\n",
    "    return X, Y, results"
   ],
   "metadata": {
    "collapsed": false,
    "pycharm": {
     "name": "#%%\n"
    }
   }
  },
  {
   "cell_type": "markdown",
   "source": [
    "Теперь, когда мы подготовились к решению задачи, написав все необходимые функции для реализации генетического алгоритма (оценки качества хромосом, сортировки потомков и эволюционных шагов), решим задачу в числах. Пусть даны следующие массивы хромосом X и Y:\n",
    "![image.png](attachment:image.png)\n",
    "Запишем их в требуемом виде и воспользуемся написанной функцией evoSteps."
   ],
   "metadata": {
    "collapsed": false
   }
  },
  {
   "cell_type": "code",
   "execution_count": 7,
   "outputs": [],
   "source": [
    "# Объявление массивов хромосом\n",
    "X = [-2, -1, 0, 1]\n",
    "Y = [-2, -1, 0, 1]\n",
    "# Реализация алгоритма\n",
    "results= evoSteps(X, Y)"
   ],
   "metadata": {
    "collapsed": false,
    "pycharm": {
     "name": "#%%\n"
    }
   }
  },
  {
   "cell_type": "markdown",
   "source": [
    "Теперь, выведем полученные значения для показателя качества хромосомы в популяции и общее качество популяции после четырех этапов эволюции. Для этого, воспользуемся циклом по значениям переменной results."
   ],
   "metadata": {
    "collapsed": false
   }
  },
  {
   "cell_type": "code",
   "execution_count": 8,
   "outputs": [
    {
     "name": "stdout",
     "output_type": "stream",
     "text": [
      "max_1_step: 1.4857142857142858\n",
      "max_2_step: 1.4615384615384615\n",
      "max_3_step: 2.967032967032967\n",
      "max_4_step: 3.5384615384615383\n",
      "max Z: 1.0\n"
     ]
    }
   ],
   "source": [
    "for i in range(len(results[2])):\n",
    "    print(f'max_{i + 1}_step: {results[2][i][2]}')\n",
    "\n",
    "qualityArrZ = []\n",
    "for i in range(len(results[2])):\n",
    "    qualityArrZ += results[2][i][3]\n",
    "\n",
    "print(f'max Z: {max(qualityArrZ)}')"
   ],
   "metadata": {
    "collapsed": false,
    "pycharm": {
     "name": "#%%\n"
    }
   }
  },
  {
   "cell_type": "markdown",
   "source": [
    "**Задание**\n",
    "\n",
    "***Задача:***\n",
    "\n",
    "Выполните по вариантам соответственно реализацию генетического алгоритма в соответствии с приложенными начальными данными.\n",
    "\n",
    "Вариант 7\n",
    "![image.png](attachment:image.png)\n",
    "\n",
    "***Решение:***"
   ],
   "metadata": {
    "collapsed": false
   }
  },
  {
   "cell_type": "code",
   "execution_count": 9,
   "outputs": [
    {
     "name": "stdout",
     "output_type": "stream",
     "text": [
      "max_1_step: -0.9024725274725274\n",
      "max_2_step: -4.968383340797134\n",
      "max_3_step: -0.34338334079713384\n",
      "max_4_step: -0.1683833407971339\n",
      "max Z: 0.0\n"
     ]
    }
   ],
   "source": [
    "def qZ(x, y):\n",
    "    return (x + 3 * y - 3)/(3 * x ** 2 + y ** 2 + 1)\n",
    "\n",
    "X = [-5, -3, -2, 0]\n",
    "Y = [-1, -2, 0, 1]\n",
    "\n",
    "results = evoSteps(X, Y)\n",
    "\n",
    "for i in range(len(results[2])):\n",
    "    print(f'max_{i + 1}_step: {results[2][i][2]}')\n",
    "\n",
    "qualityArrZ = []\n",
    "for i in range(len(results[2])):\n",
    "     qualityArrZ += results[2][i][3]\n",
    "\n",
    "print(f'max Z: {max(qualityArrZ)}')"
   ],
   "metadata": {
    "collapsed": false,
    "pycharm": {
     "name": "#%%\n"
    }
   }
  },
  {
   "cell_type": "markdown",
   "source": [
    "## 1.2. Теоретический материал – Метод имитации отжига\n",
    "\n",
    "Алгоритм отжига – это метод оптимизации, который называется отжигом, или симуляцией восстановления (Simulated annealing). Как ясно из названия, метод поиска моделирует процесс восстановления. Восстановление – это физический процесс, который заключается в нагреве и последующем контролируемом охлаждении субстанции. В результате получается прочная кристаллическая структура, которая отличается от структуры с дефектами, образующейся при быстром беспорядочном охлаждении. Структура здесь представляет собой кодированное решение, а температура используется для того, чтобы указать, как и когда будут приниматься новые решения.\n",
    "Алгоритм имитации отжига включает следующие этапы:\n",
    "![image-7.png](attachment:image-7.png)\n",
    "Метод отжига может быть эффективным при решении задач различных классов, требующих оптимизации. Ниже приводится их краткий список:\n",
    "1. создание пути;\n",
    "2. реконструкция изображения;\n",
    "3. назначение задач и планирование;\n",
    "4. размещение сети;\n",
    "5. глобальная маршрутизация;\n",
    "6. обнаружение и распознавание визуальных объектов;\n",
    "7. разработка специальных цифровых фильтров.\n",
    "\n",
    "Поскольку метод отжига представляет собой процесс генерации случайных чисел, поиск решения с использованием данного алгоритма может занять значительное время. В некоторых случаях алгоритм вообще не находит решение или выбирает не самое оптимальное. Алгоритм отжига как способ выполнения процедур поиска и оптимизации. Данный метод является аналогом процесса нагревания тела до состояния плавления с последующим постепенным охлаждением. При высоких температурах поиск ведется по всему диапазону. При снижении температуры диапазон поиска уменьшается до небольшой области вокруг текущего решения.\n",
    "\n",
    "Рассмотрим решение задачи поиска оптимального маршрута на графе методом имитации отжига Для этого, представим формальную постановку задачи и рассмотрим пример, который иллюстрирует алгоритм решения.\n",
    "Итак, необходимо Найти длину гамильтонова цикла S_4 в полном графе K_6 после четырех циклов решения задачи методом отжига. Даны расстояния L_(i,j) между вершинами. Даны также: начальная последовательность вершин L_0, последовательность замен вершин Z и выпавшие при этом вероятности перехода P_k,k = 1,...,4.\n",
    "Переход на худшее (∆S_k=S_k-S_(k-1)>0) решение допустим, если P_*=100где снижение температуры происходит по закону T_(k+1)=0.5T_k от T_1=100."
   ],
   "metadata": {
    "collapsed": false
   }
  },
  {
   "cell_type": "markdown",
   "source": [
    "**1.2.1 Пример**\n",
    "\n",
    "***Задача:***\n",
    "\n",
    "Итак, начальные условия задачи представляют собой следующий граф с расстояниями между ребрами:\n",
    "![image.png](attachment:image.png)\n",
    "\n",
    "***Решение:***"
   ],
   "metadata": {
    "collapsed": false
   }
  },
  {
   "cell_type": "code",
   "execution_count": 10,
   "outputs": [],
   "source": [
    "import networkx as nx\n",
    "import math as m"
   ],
   "metadata": {
    "collapsed": false,
    "pycharm": {
     "name": "#%%\n"
    }
   }
  },
  {
   "cell_type": "markdown",
   "source": [
    "Импортируем библиотеки.\n",
    "Далее, опишем массив длин ребер, последовательности прохождение вершин на маршруте и их замены, значения P, а также начальную температуру:"
   ],
   "metadata": {
    "collapsed": false
   }
  },
  {
   "cell_type": "code",
   "execution_count": 11,
   "outputs": [],
   "source": [
    "distances = [(1, 2, 20),\n",
    "            (1, 3, 40),\n",
    "            (1, 4, 42),\n",
    "            (1, 5, 33),\n",
    "            (1, 6, 21),\n",
    "            (2, 3, 26),\n",
    "            (2, 4, 38),\n",
    "            (2, 5, 42),\n",
    "            (2, 6, 17),\n",
    "            (3, 4, 22),\n",
    "            (3, 5, 43),\n",
    "            (3, 6, 21),\n",
    "            (4, 5, 27),\n",
    "            (4, 6, 22),\n",
    "            (5, 6, 26)] # длины рёбер\n",
    "\n",
    "V = [1, 4, 5, 2, 6, 3, 1] # последовательность прохождения маршрута\n",
    "Z = [(3, 4),\n",
    "     (4, 6),\n",
    "     (5, 2),\n",
    "     (6, 2)] # последовательность замен бершин\n",
    "P = [49, 54, 43, 54] # случайные числа, выпавшие в процессе счёта\n",
    "\n",
    "T = 100 # начальная температура"
   ],
   "metadata": {
    "collapsed": false,
    "pycharm": {
     "name": "#%%\n"
    }
   }
  },
  {
   "cell_type": "code",
   "execution_count": 12,
   "outputs": [],
   "source": [
    "# Запишем функции вероятности и изменения температуры\n",
    "def probability(delta, T):\n",
    "    return 100 * m.e ** (-delta / T)\n",
    "\n",
    "def reductTemp(prevT):\n",
    "    return 0.5 * prevT"
   ],
   "metadata": {
    "collapsed": false,
    "pycharm": {
     "name": "#%%\n"
    }
   }
  },
  {
   "cell_type": "code",
   "execution_count": 13,
   "outputs": [
    {
     "data": {
      "text/plain": "<Figure size 432x288 with 1 Axes>",
      "image/png": "[encoded data removed]"
     },
     "metadata": {},
     "output_type": "display_data"
    }
   ],
   "source": [
    "# Построим граф по заданным вершинам, как в начальном условии\n",
    "graph = nx.Graph() # создание пустого графа\n",
    "graph.add_weighted_edges_from(distances) # добавление весов ребер\n",
    "\n",
    "# отрисовка графа с заданными вершинами\n",
    "nx.draw_kamada_kawai(graph, node_color = '#fb7258', node_size = 2000, with_labels = True)"
   ],
   "metadata": {
    "collapsed": false,
    "pycharm": {
     "name": "#%%\n"
    }
   }
  },
  {
   "cell_type": "markdown",
   "source": [
    "Теперь, напишем необходимые, согласно алгоритму выше, функции для работы метода имитации отжига."
   ],
   "metadata": {
    "collapsed": false
   }
  },
  {
   "cell_type": "code",
   "execution_count": 14,
   "outputs": [],
   "source": [
    "# Вычислим длину ребра\n",
    "def edgeLenght(i, j, distances, roundTrip = True):\n",
    "    if roundTrip:\n",
    "        return max([(item[2] if (item[0] == i and item[1] == j) or (item[1] == i and item[0] == j) else -1)\n",
    "                    for item in distances])\n",
    "    else:\n",
    "        return max([(item[2] if (item[0] == i and item[1] == j) else -1) for item in distances])"
   ],
   "metadata": {
    "collapsed": false,
    "pycharm": {
     "name": "#%%\n"
    }
   }
  },
  {
   "cell_type": "code",
   "execution_count": 15,
   "outputs": [],
   "source": [
    "# Вычислим длину маршрута\n",
    "def routeLength(V, distances):\n",
    "    edges = []\n",
    "\n",
    "    for i in range(len(V) - 1):\n",
    "        edges.append(edgeLenght(V[i], V[i + 1], distances))\n",
    "\n",
    "    return sum(edges)"
   ],
   "metadata": {
    "collapsed": false,
    "pycharm": {
     "name": "#%%\n"
    }
   }
  },
  {
   "cell_type": "raw",
   "source": [
    "Запишем функцию для однократной перестановки в пути:"
   ],
   "metadata": {
    "collapsed": false
   }
  },
  {
   "cell_type": "code",
   "execution_count": 16,
   "outputs": [],
   "source": [
    "# одна перестановка в пути\n",
    "def routeOneReplacement(arrV, Z, replacementByName=True):\n",
    "    decrement = 1 if replacementByName else 0\n",
    "\n",
    "    arrV[Z[0] - decrement], arrV[Z[1] - decrement] = arrV[Z[1] - decrement], arrV[Z[0] - decrement]\n",
    "\n",
    "    return arrV"
   ],
   "metadata": {
    "collapsed": false,
    "pycharm": {
     "name": "#%%\n"
    }
   }
  },
  {
   "cell_type": "markdown",
   "source": [
    "А теперь функцию, для реализации непосредственно самой перестановки:"
   ],
   "metadata": {
    "collapsed": false
   }
  },
  {
   "cell_type": "code",
   "execution_count": 17,
   "outputs": [],
   "source": [
    "# перестановки в пути\n",
    "def routeReplacement(V, Z):\n",
    "    for z in Z:\n",
    "        V = routeOneReplacement(V, z)\n",
    "    return V"
   ],
   "metadata": {
    "collapsed": false,
    "pycharm": {
     "name": "#%%\n"
    }
   }
  },
  {
   "cell_type": "markdown",
   "source": [
    "Теперь, опишем алгоритм выбора подходящего пути методом отжига:"
   ],
   "metadata": {
    "collapsed": false
   }
  },
  {
   "cell_type": "code",
   "execution_count": 18,
   "outputs": [],
   "source": [
    "# выбор нужного пути методом отжига\n",
    "def chooseRoute(distances, V, Z, T, P):\n",
    "    sumLength = routeLength(V, distances) # нахождение длины пути\n",
    "    arrSum = [sumLength] # массив сумм длин\n",
    "\n",
    "    # циклы методом отжига\n",
    "    for i in range(len(Z)):\n",
    "        newV = routeOneReplacement(V[:], Z[i]) # новый маршрут после перестановки\n",
    "        newS = routeLength(newV, distances) # длина нового маршрута\n",
    "        arrSum.append(newS)\n",
    "        deltaS = newS - sumLength # разница между длиной нового и старого маршрутов\n",
    "\n",
    "        # в случае, если разница между длинами больше 0, то вычисляется вероятность\n",
    "        if deltaS > 0:\n",
    "            p = probability(deltaS, T) # подсчёт вероятности\n",
    "\n",
    "            # если заданная вероятность попадает в интервал от 0 до р, то новый маршрут выб\n",
    "            if p > P[i]:\n",
    "                V = newV\n",
    "                sumLength = newS\n",
    "        else:\n",
    "            V = newV\n",
    "            sumLength = newS\n",
    "\n",
    "        T = reductTemp(T) # вычисление температуры\n",
    "\n",
    "    return V, arrSum"
   ],
   "metadata": {
    "collapsed": false,
    "pycharm": {
     "name": "#%%\n"
    }
   }
  },
  {
   "cell_type": "markdown",
   "source": [
    "И нарисуем наш граф, отвечающий заданному маршруту:"
   ],
   "metadata": {
    "collapsed": false
   }
  },
  {
   "cell_type": "code",
   "execution_count": 19,
   "outputs": [],
   "source": [
    "def drawRouteGraph(distances, bestRoute):\n",
    "    newDistances = []\n",
    "    # прохождение по вектору\n",
    "    for i in range(len(bestRoute) - 1):\n",
    "        for distance in distances:\n",
    "            if distance[0] == bestRoute[i] and distance[1] == bestRoute[i + 1] or distance[1] == bestRoute[i] and distance[0] == bestRoute[i + 1]:\n",
    "                newDistances.append(distance)\n",
    "\n",
    "    graph = nx.Graph() # создание пустого графа\n",
    "\n",
    "    graph.add_weighted_edges_from(newDistances) # добавление весов ребер\n",
    "# отрисовка графа с заданными вершинами\n",
    "    nx.draw_kamada_kawai(graph, node_color='#fb7258', node_size = 2000, with_labels = True)"
   ],
   "metadata": {
    "collapsed": false,
    "pycharm": {
     "name": "#%%\n"
    }
   }
  },
  {
   "cell_type": "markdown",
   "source": [
    "И, наконец, рассчитаем наилучший маршрут и его длину:"
   ],
   "metadata": {
    "collapsed": false
   }
  },
  {
   "cell_type": "code",
   "execution_count": 20,
   "outputs": [
    {
     "name": "stdout",
     "output_type": "stream",
     "text": [
      "Лучший выбранный маршрут: [1, 6, 2, 3, 4, 5, 1]\n",
      "Длина лучшего выбранного маршрута: 146\n",
      "Длины всех рассмотренных маршрутов: [189, 209, 186, 146, 166]\n"
     ]
    },
    {
     "data": {
      "text/plain": "<Figure size 432x288 with 1 Axes>",
      "image/png": "[encoded data removed]"
     },
     "metadata": {},
     "output_type": "display_data"
    }
   ],
   "source": [
    "bestRoute, arrLength = chooseRoute(distances, V, Z, T, P)\n",
    "\n",
    "print(f'Лучший выбранный маршрут: {bestRoute}')\n",
    "print(f'Длина лучшего выбранного маршрута: {routeLength(bestRoute, distances)}')\n",
    "print(f'Длины всех рассмотренных маршрутов: {arrLength}')\n",
    "\n",
    "drawRouteGraph(distances, bestRoute) # отрисовка лучшего маршрута"
   ],
   "metadata": {
    "collapsed": false,
    "pycharm": {
     "name": "#%%\n"
    }
   }
  },
  {
   "cell_type": "markdown",
   "source": [
    "**Задание**\n",
    "\n",
    "***Задача:***\n",
    "\n",
    "Найти длину гамильтонова цикла S4 в полном графе K6 после четырех циклов решения задачи методом отжига по вариантам ниже.\n",
    "![image-2.png](attachment:image-2.png)\n",
    "\n",
    "\n",
    "***Решение:***"
   ],
   "metadata": {
    "collapsed": false
   }
  },
  {
   "cell_type": "code",
   "execution_count": 21,
   "outputs": [
    {
     "data": {
      "text/plain": "<Figure size 432x288 with 1 Axes>",
      "image/png": "[encoded data removed]"
     },
     "metadata": {},
     "output_type": "display_data"
    }
   ],
   "source": [
    "import networkx as nx\n",
    "import math as m\n",
    "\n",
    "distances = [(1, 2, 22),\n",
    "            (1, 3, 43),\n",
    "            (1, 4, 39),\n",
    "            (1, 5, 28),\n",
    "            (1, 6, 20),\n",
    "            (2, 3, 26),\n",
    "            (2, 4, 33),\n",
    "            (2, 5, 36),\n",
    "            (2, 6, 17),\n",
    "            (3, 4, 22),\n",
    "            (3, 5, 40),\n",
    "            (3, 6, 24),\n",
    "            (4, 5, 22),\n",
    "            (4, 6, 19),\n",
    "            (5, 6, 20)] # длины рёбер\n",
    "\n",
    "V = [1, 3, 4, 5, 6, 2, 1] # последовательность прохождения маршрута\n",
    "Z = [(2, 4),\n",
    "     (4, 6),\n",
    "     (3, 5),\n",
    "     (5, 2)] # последовательность замен вершин\n",
    "P = [51, 23, 29, 31] # случайные числа, выпавшие в процессе счёта\n",
    "\n",
    "T = 100 # начальная температура\n",
    "\n",
    "# Запишем функции вероятности и изменения температуры\n",
    "def probability(delta, T):\n",
    "    return 100 * m.e ** (-delta / T)\n",
    "\n",
    "def reductTemp(prevT):\n",
    "    return 0.5 * prevT\n",
    "\n",
    "# Построим граф по заданным вершинам, как в начальном условии\n",
    "graph = nx.Graph() # создание пустого графа\n",
    "graph.add_weighted_edges_from(distances) # добавление весов ребер\n",
    "\n",
    "# отрисовка графа с заданными вершинами\n",
    "nx.draw_kamada_kawai(graph, node_color = '#fb7258', node_size = 2000, with_labels = True)"
   ],
   "metadata": {
    "collapsed": false,
    "pycharm": {
     "name": "#%%\n"
    }
   }
  },
  {
   "cell_type": "code",
   "execution_count": 22,
   "outputs": [
    {
     "name": "stdout",
     "output_type": "stream",
     "text": [
      "Лучший выбранный маршрут: [1, 5, 6, 2, 4, 3, 1]\n",
      "Длина лучшего выбранного маршрута: 163\n",
      "Длины всех рассмотренных маршрутов: [146, 135, 167, 163, 194]\n"
     ]
    },
    {
     "data": {
      "text/plain": "<Figure size 432x288 with 1 Axes>",
      "image/png": "[encoded data removed]"
     },
     "metadata": {},
     "output_type": "display_data"
    }
   ],
   "source": [
    "# Вычислим длину ребра\n",
    "def edgeLenght(i, j, distances, roundTrip = True):\n",
    "    if roundTrip:\n",
    "        return max([(item[2] if (item[0] == i and item[1] == j) or (item[1] == i and item[0] == j) else -1)\n",
    "                    for item in distances])\n",
    "    else:\n",
    "        return max([(item[2] if (item[0] == i and item[1] == j) else -1) for item in distances])\n",
    "\n",
    "# Вычислим длину маршрута\n",
    "def routeLength(V, distances):\n",
    "    edges = []\n",
    "\n",
    "    for i in range(len(V) - 1):\n",
    "        edges.append(edgeLenght(V[i], V[i + 1], distances))\n",
    "\n",
    "    return sum(edges)\n",
    "\n",
    "# одна перестановка в пути\n",
    "def routeOneReplacement(arrV, Z, replacementByName=True):\n",
    "    decrement = 1 if replacementByName else 0\n",
    "\n",
    "    arrV[Z[0] - decrement], arrV[Z[1] - decrement] = arrV[Z[1] - decrement], arrV[Z[0] - decrement]\n",
    "\n",
    "    return arrV\n",
    "\n",
    "# перестановки в пути\n",
    "def routeReplacement(V, Z):\n",
    "    for z in Z:\n",
    "        V = routeOneReplacement(V, z)\n",
    "    return V\n",
    "\n",
    "# выбор нужного пути методом отжига\n",
    "def chooseRoute(distances, V, Z, T, P):\n",
    "    sumLength = routeLength(V, distances) # нахождение длины пути\n",
    "    arrSum = [sumLength] # массив сумм длин\n",
    "\n",
    "    # циклы методом отжига\n",
    "    for i in range(len(Z)):\n",
    "        newV = routeOneReplacement(V[:], Z[i]) # новый маршрут после перестановки\n",
    "        newS = routeLength(newV, distances) # длина нового маршрута\n",
    "        arrSum.append(newS)\n",
    "        deltaS = newS - sumLength # разница между длиной нового и старого маршрутов\n",
    "\n",
    "        # в случае, если разница между длинами больше 0, то вычисляется вероятность\n",
    "        if deltaS > 0:\n",
    "            p = probability(deltaS, T) # подсчёт вероятности\n",
    "\n",
    "            # если заданная вероятность попадает в интервал от 0 до р, то новый маршрут выб\n",
    "            if p > P[i]:\n",
    "                V = newV\n",
    "                sumLength = newS\n",
    "        else:\n",
    "            V = newV\n",
    "            sumLength = newS\n",
    "\n",
    "        T = reductTemp(T) # вычисление температуры\n",
    "\n",
    "    return V, arrSum\n",
    "\n",
    "def drawRouteGraph(distances, bestRoute):\n",
    "    newDistances = []\n",
    "    # прохождение по вектору\n",
    "    for i in range(len(bestRoute) - 1):\n",
    "        for distance in distances:\n",
    "            if distance[0] == bestRoute[i] and distance[1] == bestRoute[i + 1] or distance[1] == bestRoute[i] and distance[0] == bestRoute[i + 1]:\n",
    "                newDistances.append(distance)\n",
    "\n",
    "    graph = nx.Graph() # создание пустого графа\n",
    "\n",
    "    graph.add_weighted_edges_from(newDistances) # добавление весов ребер\n",
    "# отрисовка графа с заданными вершинами\n",
    "    nx.draw_kamada_kawai(graph, node_color='#fb7258', node_size = 2000, with_labels = True)\n",
    "\n",
    "bestRoute, arrLength = chooseRoute(distances, V, Z, T, P)\n",
    "\n",
    "print(f'Лучший выбранный маршрут: {bestRoute}')\n",
    "print(f'Длина лучшего выбранного маршрута: {routeLength(bestRoute, distances)}')\n",
    "print(f'Длины всех рассмотренных маршрутов: {arrLength}')\n",
    "\n",
    "drawRouteGraph(distances, bestRoute) # отрисовка лучшего маршрута"
   ],
   "metadata": {
    "collapsed": false,
    "pycharm": {
     "name": "#%%\n"
    }
   }
  },
  {
   "cell_type": "markdown",
   "source": [
    "**Задание**\n",
    "\n",
    "***Задача:***\n",
    "\n",
    "На решенном уже примере поэкспериментируйте с показателем S, проанализируйте результаты.\n",
    "\n",
    "\n",
    "***Решение:***"
   ],
   "metadata": {
    "collapsed": false
   }
  },
  {
   "cell_type": "code",
   "execution_count": 23,
   "outputs": [],
   "source": [
    "import itertools\n",
    "from random import randint\n",
    "\n",
    "distances = [(1, 2, 23),\n",
    "            (1, 3, 42),\n",
    "            (1, 4, 40),\n",
    "            (1, 5, 25),\n",
    "            (1, 6, 22),\n",
    "            (2, 3, 20),\n",
    "            (2, 4, 30),\n",
    "            (2, 5, 34),\n",
    "            (2, 6, 13),\n",
    "            (3, 4, 22),\n",
    "            (3, 5, 41),\n",
    "            (3, 6, 21),\n",
    "            (4, 5, 26),\n",
    "            (4, 6, 19),\n",
    "            (5, 6, 22)] # длины рёбер\n",
    "\n",
    "V = [1, 3, 4, 5, 6, 2, 1] # последовательность прохождения маршрута\n",
    "Z = [(2, 4),\n",
    "     (4, 6),\n",
    "     (3, 5),\n",
    "     (5, 2)] # последовательность замен вершин\n",
    "P = [51, 23, 29, 31] # случайные числа, выпавшие в процессе счёта\n",
    "\n",
    "T = 100"
   ],
   "metadata": {
    "collapsed": false,
    "pycharm": {
     "name": "#%%\n"
    }
   }
  },
  {
   "cell_type": "code",
   "execution_count": 24,
   "outputs": [
    {
     "name": "stdout",
     "output_type": "stream",
     "text": [
      "Лучший выбранный маршрут: [1, 5, 6, 2, 4, 3, 1]\n",
      "Длина лучшего выбранного маршрута: 154\n",
      "Длины всех рассмотренных маршрутов: [148, 130, 157, 154, 189]\n"
     ]
    },
    {
     "data": {
      "text/plain": "<Figure size 432x288 with 1 Axes>",
      "image/png": "[encoded data removed]"
     },
     "metadata": {},
     "output_type": "display_data"
    }
   ],
   "source": [
    "bestRoute, arrLength = chooseRoute(distances, V, Z, T, P)\n",
    "\n",
    "print(f'Лучший выбранный маршрут: {bestRoute}')\n",
    "print(f'Длина лучшего выбранного маршрута: {routeLength(bestRoute, distances)}')\n",
    "print(f'Длины всех рассмотренных маршрутов: {arrLength}')\n",
    "\n",
    "drawRouteGraph(distances, bestRoute) # отрисовка лучшего маршрута\n"
   ],
   "metadata": {
    "collapsed": false,
    "pycharm": {
     "name": "#%%\n"
    }
   }
  }
 ],
 "metadata": {
  "kernelspec": {
   "display_name": "Python 3",
   "language": "python",
   "name": "python3"
  },
  "language_info": {
   "codemirror_mode": {
    "name": "ipython",
    "version": 2
   },
   "file_extension": ".py",
   "mimetype": "text/x-python",
   "name": "python",
   "nbconvert_exporter": "python",
   "pygments_lexer": "ipython2",
   "version": "2.7.6"
  }
 },
 "nbformat": 4,
 "nbformat_minor": 0
}